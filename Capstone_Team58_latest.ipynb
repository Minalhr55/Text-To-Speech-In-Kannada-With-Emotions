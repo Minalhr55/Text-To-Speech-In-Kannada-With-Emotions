{
  "cells": [
    {
      "cell_type": "markdown",
      "id": "50_GecP-7qHa",
      "metadata": {
        "id": "50_GecP-7qHa"
      },
      "source": [
        "##Capstone Project - TTS in Kannada With Emotions\n",
        "By: Rishika Satheesh, Deboleena Mukherjee, Nikila S and Minal H R\n",
        "PES University"
      ]
    },
    {
      "cell_type": "markdown",
      "id": "406a8cc9",
      "metadata": {
        "id": "406a8cc9"
      },
      "source": [
        "Importing necessary packages:"
      ]
    },
    {
      "cell_type": "code",
      "execution_count": 67,
      "id": "313257fb",
      "metadata": {
        "id": "313257fb"
      },
      "outputs": [],
      "source": [
        "import os\n",
        "import pandas as pd\n",
        "import numpy as np\n",
        "import seaborn as sns\n",
        "import pickle"
      ]
    },
    {
      "cell_type": "markdown",
      "id": "c14b3d27",
      "metadata": {
        "id": "c14b3d27"
      },
      "source": [
        "Reading train data from csv file:"
      ]
    },
    {
      "cell_type": "code",
      "execution_count": 68,
      "id": "52c7b0e5",
      "metadata": {
        "colab": {
          "base_uri": "https://localhost:8080/",
          "height": 206
        },
        "id": "52c7b0e5",
        "outputId": "00d56db6-f003-49d8-9bcd-ecf065cdac1c"
      },
      "outputs": [
        {
          "output_type": "execute_result",
          "data": {
            "text/plain": [
              "                                          Text  Class\n",
              "0            ಹೋಟೆಲ್ ಕಳಪೆಯಾಗಿ ನಿರ್ವಹಿಸಲ್ಪಟ್ಟಿದೆ      0\n",
              "1                 ಅವರು ಕೆಟ್ಟ ಸೇವೆಯನ್ನು ನೀಡಿದರು      0\n",
              "2  ಕ್ಯಾಬ್‌ನ ಒಳಭಾಗವನ್ನು ಸರಿಯಾಗಿ ನಿರ್ವಹಿಸಲಾಗಿಲ್ಲ      0\n",
              "3                           ಕ್ಯಾಬ್ ಒಳಭಾಗ ಕೊಳಕು      0\n",
              "4      ನಾವು ಅಗ್ಗದ ವಿಮಾನವನ್ನು ಬುಕ್ ಮಾಡಬಹುದಿತ್ತು      0"
            ],
            "text/html": [
              "\n",
              "  <div id=\"df-7ec9f929-4102-4eaf-af89-c25e1621a4f9\">\n",
              "    <div class=\"colab-df-container\">\n",
              "      <div>\n",
              "<style scoped>\n",
              "    .dataframe tbody tr th:only-of-type {\n",
              "        vertical-align: middle;\n",
              "    }\n",
              "\n",
              "    .dataframe tbody tr th {\n",
              "        vertical-align: top;\n",
              "    }\n",
              "\n",
              "    .dataframe thead th {\n",
              "        text-align: right;\n",
              "    }\n",
              "</style>\n",
              "<table border=\"1\" class=\"dataframe\">\n",
              "  <thead>\n",
              "    <tr style=\"text-align: right;\">\n",
              "      <th></th>\n",
              "      <th>Text</th>\n",
              "      <th>Class</th>\n",
              "    </tr>\n",
              "  </thead>\n",
              "  <tbody>\n",
              "    <tr>\n",
              "      <th>0</th>\n",
              "      <td>ಹೋಟೆಲ್ ಕಳಪೆಯಾಗಿ ನಿರ್ವಹಿಸಲ್ಪಟ್ಟಿದೆ</td>\n",
              "      <td>0</td>\n",
              "    </tr>\n",
              "    <tr>\n",
              "      <th>1</th>\n",
              "      <td>ಅವರು ಕೆಟ್ಟ ಸೇವೆಯನ್ನು ನೀಡಿದರು</td>\n",
              "      <td>0</td>\n",
              "    </tr>\n",
              "    <tr>\n",
              "      <th>2</th>\n",
              "      <td>ಕ್ಯಾಬ್‌ನ ಒಳಭಾಗವನ್ನು ಸರಿಯಾಗಿ ನಿರ್ವಹಿಸಲಾಗಿಲ್ಲ</td>\n",
              "      <td>0</td>\n",
              "    </tr>\n",
              "    <tr>\n",
              "      <th>3</th>\n",
              "      <td>ಕ್ಯಾಬ್ ಒಳಭಾಗ ಕೊಳಕು</td>\n",
              "      <td>0</td>\n",
              "    </tr>\n",
              "    <tr>\n",
              "      <th>4</th>\n",
              "      <td>ನಾವು ಅಗ್ಗದ ವಿಮಾನವನ್ನು ಬುಕ್ ಮಾಡಬಹುದಿತ್ತು</td>\n",
              "      <td>0</td>\n",
              "    </tr>\n",
              "  </tbody>\n",
              "</table>\n",
              "</div>\n",
              "      <button class=\"colab-df-convert\" onclick=\"convertToInteractive('df-7ec9f929-4102-4eaf-af89-c25e1621a4f9')\"\n",
              "              title=\"Convert this dataframe to an interactive table.\"\n",
              "              style=\"display:none;\">\n",
              "        \n",
              "  <svg xmlns=\"http://www.w3.org/2000/svg\" height=\"24px\"viewBox=\"0 0 24 24\"\n",
              "       width=\"24px\">\n",
              "    <path d=\"M0 0h24v24H0V0z\" fill=\"none\"/>\n",
              "    <path d=\"M18.56 5.44l.94 2.06.94-2.06 2.06-.94-2.06-.94-.94-2.06-.94 2.06-2.06.94zm-11 1L8.5 8.5l.94-2.06 2.06-.94-2.06-.94L8.5 2.5l-.94 2.06-2.06.94zm10 10l.94 2.06.94-2.06 2.06-.94-2.06-.94-.94-2.06-.94 2.06-2.06.94z\"/><path d=\"M17.41 7.96l-1.37-1.37c-.4-.4-.92-.59-1.43-.59-.52 0-1.04.2-1.43.59L10.3 9.45l-7.72 7.72c-.78.78-.78 2.05 0 2.83L4 21.41c.39.39.9.59 1.41.59.51 0 1.02-.2 1.41-.59l7.78-7.78 2.81-2.81c.8-.78.8-2.07 0-2.86zM5.41 20L4 18.59l7.72-7.72 1.47 1.35L5.41 20z\"/>\n",
              "  </svg>\n",
              "      </button>\n",
              "      \n",
              "  <style>\n",
              "    .colab-df-container {\n",
              "      display:flex;\n",
              "      flex-wrap:wrap;\n",
              "      gap: 12px;\n",
              "    }\n",
              "\n",
              "    .colab-df-convert {\n",
              "      background-color: #E8F0FE;\n",
              "      border: none;\n",
              "      border-radius: 50%;\n",
              "      cursor: pointer;\n",
              "      display: none;\n",
              "      fill: #1967D2;\n",
              "      height: 32px;\n",
              "      padding: 0 0 0 0;\n",
              "      width: 32px;\n",
              "    }\n",
              "\n",
              "    .colab-df-convert:hover {\n",
              "      background-color: #E2EBFA;\n",
              "      box-shadow: 0px 1px 2px rgba(60, 64, 67, 0.3), 0px 1px 3px 1px rgba(60, 64, 67, 0.15);\n",
              "      fill: #174EA6;\n",
              "    }\n",
              "\n",
              "    [theme=dark] .colab-df-convert {\n",
              "      background-color: #3B4455;\n",
              "      fill: #D2E3FC;\n",
              "    }\n",
              "\n",
              "    [theme=dark] .colab-df-convert:hover {\n",
              "      background-color: #434B5C;\n",
              "      box-shadow: 0px 1px 3px 1px rgba(0, 0, 0, 0.15);\n",
              "      filter: drop-shadow(0px 1px 2px rgba(0, 0, 0, 0.3));\n",
              "      fill: #FFFFFF;\n",
              "    }\n",
              "  </style>\n",
              "\n",
              "      <script>\n",
              "        const buttonEl =\n",
              "          document.querySelector('#df-7ec9f929-4102-4eaf-af89-c25e1621a4f9 button.colab-df-convert');\n",
              "        buttonEl.style.display =\n",
              "          google.colab.kernel.accessAllowed ? 'block' : 'none';\n",
              "\n",
              "        async function convertToInteractive(key) {\n",
              "          const element = document.querySelector('#df-7ec9f929-4102-4eaf-af89-c25e1621a4f9');\n",
              "          const dataTable =\n",
              "            await google.colab.kernel.invokeFunction('convertToInteractive',\n",
              "                                                     [key], {});\n",
              "          if (!dataTable) return;\n",
              "\n",
              "          const docLinkHtml = 'Like what you see? Visit the ' +\n",
              "            '<a target=\"_blank\" href=https://colab.research.google.com/notebooks/data_table.ipynb>data table notebook</a>'\n",
              "            + ' to learn more about interactive tables.';\n",
              "          element.innerHTML = '';\n",
              "          dataTable['output_type'] = 'display_data';\n",
              "          await google.colab.output.renderOutput(dataTable, element);\n",
              "          const docLink = document.createElement('div');\n",
              "          docLink.innerHTML = docLinkHtml;\n",
              "          element.appendChild(docLink);\n",
              "        }\n",
              "      </script>\n",
              "    </div>\n",
              "  </div>\n",
              "  "
            ]
          },
          "metadata": {},
          "execution_count": 68
        }
      ],
      "source": [
        "df = pd.read_csv(r\"/content/emo_ds_7.csv\")\n",
        "df.head()\n"
      ]
    },
    {
      "cell_type": "markdown",
      "id": "3b0ac9d9",
      "metadata": {
        "id": "3b0ac9d9"
      },
      "source": [
        "Count of sentences for each emotion label in train dataset:"
      ]
    },
    {
      "cell_type": "markdown",
      "id": "ffea9981",
      "metadata": {
        "id": "ffea9981"
      },
      "source": [
        "0 - Angry"
      ]
    },
    {
      "cell_type": "markdown",
      "id": "6fef408f",
      "metadata": {
        "id": "6fef408f"
      },
      "source": [
        "1 - Happy"
      ]
    },
    {
      "cell_type": "markdown",
      "id": "9fdad4e9",
      "metadata": {
        "id": "9fdad4e9"
      },
      "source": [
        "2 - Neutral"
      ]
    },
    {
      "cell_type": "markdown",
      "id": "459f4ddd",
      "metadata": {
        "id": "459f4ddd"
      },
      "source": [
        "3 - Sad"
      ]
    },
    {
      "cell_type": "code",
      "execution_count": 69,
      "id": "0106820f",
      "metadata": {
        "colab": {
          "base_uri": "https://localhost:8080/"
        },
        "id": "0106820f",
        "outputId": "2ff72c06-85b5-49f7-a2b1-7ee82832b507"
      },
      "outputs": [
        {
          "output_type": "execute_result",
          "data": {
            "text/plain": [
              "Class\n",
              "0    402\n",
              "1    385\n",
              "2    392\n",
              "3    392\n",
              "Name: Class, dtype: int64"
            ]
          },
          "metadata": {},
          "execution_count": 69
        }
      ],
      "source": [
        "df.groupby('Class').Class.count()\n"
      ]
    },
    {
      "cell_type": "code",
      "execution_count": 70,
      "id": "_6W696HZ6UO8",
      "metadata": {
        "colab": {
          "base_uri": "https://localhost:8080/",
          "height": 351
        },
        "id": "_6W696HZ6UO8",
        "outputId": "fbef2fa4-8c59-4bac-b48d-edea9dcd1888"
      },
      "outputs": [
        {
          "output_type": "stream",
          "name": "stderr",
          "text": [
            "/usr/local/lib/python3.8/dist-packages/seaborn/_decorators.py:36: FutureWarning: Pass the following variable as a keyword arg: x. From version 0.12, the only valid positional argument will be `data`, and passing other arguments without an explicit keyword will result in an error or misinterpretation.\n",
            "  warnings.warn(\n"
          ]
        },
        {
          "output_type": "execute_result",
          "data": {
            "text/plain": [
              "<matplotlib.axes._subplots.AxesSubplot at 0x7f6e52fc2190>"
            ]
          },
          "metadata": {},
          "execution_count": 70
        },
        {
          "output_type": "display_data",
          "data": {
            "text/plain": [
              "<Figure size 432x288 with 1 Axes>"
            ],
            "image/png": "[encoded data removed]"
          },
          "metadata": {
            "needs_background": "light"
          }
        }
      ],
      "source": [
        "sns.countplot(df['Class'])"
      ]
    },
    {
      "cell_type": "code",
      "execution_count": 71,
      "id": "7a98954f",
      "metadata": {
        "id": "7a98954f"
      },
      "outputs": [],
      "source": [
        "X = df['Text']\n",
        "y = df['Class']"
      ]
    },
    {
      "cell_type": "markdown",
      "id": "135dd1e5",
      "metadata": {
        "id": "135dd1e5"
      },
      "source": [
        "Reading test data from csv file:"
      ]
    },
    {
      "cell_type": "code",
      "execution_count": 72,
      "id": "bc692437",
      "metadata": {
        "colab": {
          "base_uri": "https://localhost:8080/",
          "height": 206
        },
        "id": "bc692437",
        "outputId": "9c6ed4b7-33c8-44fe-e3b7-3b8a3f20ec04"
      },
      "outputs": [
        {
          "output_type": "execute_result",
          "data": {
            "text/plain": [
              "                                Text  Class\n",
              "0  ಹೋಟೆಲ್ ಕಳಪೆಯಾಗಿ ನಿರ್ವಹಿಸಲ್ಪಟ್ಟಿದೆ      0\n",
              "1       ಇದು ಸರಿಯಾಗಿ ಕೆಲಸ ಮಾಡುತ್ತಿಲ್ಲ      0\n",
              "2            ನನ್ನ ಅದೃಷ್ಟ ಚೆನ್ನಾಗಿಲ್ಲ      0\n",
              "3       ನಮಗೆ ತುಂಬಾ ಕೆಟ್ಟ ಅನುಭವವಾಗಿದೆ      0\n",
              "4                   ನೀನು ನಿಷ್ಪ್ರಯೋಜಕ      0"
            ],
            "text/html": [
              "\n",
              "  <div id=\"df-fa66b7dd-45a7-4f2f-90a7-c7d3962c950e\">\n",
              "    <div class=\"colab-df-container\">\n",
              "      <div>\n",
              "<style scoped>\n",
              "    .dataframe tbody tr th:only-of-type {\n",
              "        vertical-align: middle;\n",
              "    }\n",
              "\n",
              "    .dataframe tbody tr th {\n",
              "        vertical-align: top;\n",
              "    }\n",
              "\n",
              "    .dataframe thead th {\n",
              "        text-align: right;\n",
              "    }\n",
              "</style>\n",
              "<table border=\"1\" class=\"dataframe\">\n",
              "  <thead>\n",
              "    <tr style=\"text-align: right;\">\n",
              "      <th></th>\n",
              "      <th>Text</th>\n",
              "      <th>Class</th>\n",
              "    </tr>\n",
              "  </thead>\n",
              "  <tbody>\n",
              "    <tr>\n",
              "      <th>0</th>\n",
              "      <td>ಹೋಟೆಲ್ ಕಳಪೆಯಾಗಿ ನಿರ್ವಹಿಸಲ್ಪಟ್ಟಿದೆ</td>\n",
              "      <td>0</td>\n",
              "    </tr>\n",
              "    <tr>\n",
              "      <th>1</th>\n",
              "      <td>ಇದು ಸರಿಯಾಗಿ ಕೆಲಸ ಮಾಡುತ್ತಿಲ್ಲ</td>\n",
              "      <td>0</td>\n",
              "    </tr>\n",
              "    <tr>\n",
              "      <th>2</th>\n",
              "      <td>ನನ್ನ ಅದೃಷ್ಟ ಚೆನ್ನಾಗಿಲ್ಲ</td>\n",
              "      <td>0</td>\n",
              "    </tr>\n",
              "    <tr>\n",
              "      <th>3</th>\n",
              "      <td>ನಮಗೆ ತುಂಬಾ ಕೆಟ್ಟ ಅನುಭವವಾಗಿದೆ</td>\n",
              "      <td>0</td>\n",
              "    </tr>\n",
              "    <tr>\n",
              "      <th>4</th>\n",
              "      <td>ನೀನು ನಿಷ್ಪ್ರಯೋಜಕ</td>\n",
              "      <td>0</td>\n",
              "    </tr>\n",
              "  </tbody>\n",
              "</table>\n",
              "</div>\n",
              "      <button class=\"colab-df-convert\" onclick=\"convertToInteractive('df-fa66b7dd-45a7-4f2f-90a7-c7d3962c950e')\"\n",
              "              title=\"Convert this dataframe to an interactive table.\"\n",
              "              style=\"display:none;\">\n",
              "        \n",
              "  <svg xmlns=\"http://www.w3.org/2000/svg\" height=\"24px\"viewBox=\"0 0 24 24\"\n",
              "       width=\"24px\">\n",
              "    <path d=\"M0 0h24v24H0V0z\" fill=\"none\"/>\n",
              "    <path d=\"M18.56 5.44l.94 2.06.94-2.06 2.06-.94-2.06-.94-.94-2.06-.94 2.06-2.06.94zm-11 1L8.5 8.5l.94-2.06 2.06-.94-2.06-.94L8.5 2.5l-.94 2.06-2.06.94zm10 10l.94 2.06.94-2.06 2.06-.94-2.06-.94-.94-2.06-.94 2.06-2.06.94z\"/><path d=\"M17.41 7.96l-1.37-1.37c-.4-.4-.92-.59-1.43-.59-.52 0-1.04.2-1.43.59L10.3 9.45l-7.72 7.72c-.78.78-.78 2.05 0 2.83L4 21.41c.39.39.9.59 1.41.59.51 0 1.02-.2 1.41-.59l7.78-7.78 2.81-2.81c.8-.78.8-2.07 0-2.86zM5.41 20L4 18.59l7.72-7.72 1.47 1.35L5.41 20z\"/>\n",
              "  </svg>\n",
              "      </button>\n",
              "      \n",
              "  <style>\n",
              "    .colab-df-container {\n",
              "      display:flex;\n",
              "      flex-wrap:wrap;\n",
              "      gap: 12px;\n",
              "    }\n",
              "\n",
              "    .colab-df-convert {\n",
              "      background-color: #E8F0FE;\n",
              "      border: none;\n",
              "      border-radius: 50%;\n",
              "      cursor: pointer;\n",
              "      display: none;\n",
              "      fill: #1967D2;\n",
              "      height: 32px;\n",
              "      padding: 0 0 0 0;\n",
              "      width: 32px;\n",
              "    }\n",
              "\n",
              "    .colab-df-convert:hover {\n",
              "      background-color: #E2EBFA;\n",
              "      box-shadow: 0px 1px 2px rgba(60, 64, 67, 0.3), 0px 1px 3px 1px rgba(60, 64, 67, 0.15);\n",
              "      fill: #174EA6;\n",
              "    }\n",
              "\n",
              "    [theme=dark] .colab-df-convert {\n",
              "      background-color: #3B4455;\n",
              "      fill: #D2E3FC;\n",
              "    }\n",
              "\n",
              "    [theme=dark] .colab-df-convert:hover {\n",
              "      background-color: #434B5C;\n",
              "      box-shadow: 0px 1px 3px 1px rgba(0, 0, 0, 0.15);\n",
              "      filter: drop-shadow(0px 1px 2px rgba(0, 0, 0, 0.3));\n",
              "      fill: #FFFFFF;\n",
              "    }\n",
              "  </style>\n",
              "\n",
              "      <script>\n",
              "        const buttonEl =\n",
              "          document.querySelector('#df-fa66b7dd-45a7-4f2f-90a7-c7d3962c950e button.colab-df-convert');\n",
              "        buttonEl.style.display =\n",
              "          google.colab.kernel.accessAllowed ? 'block' : 'none';\n",
              "\n",
              "        async function convertToInteractive(key) {\n",
              "          const element = document.querySelector('#df-fa66b7dd-45a7-4f2f-90a7-c7d3962c950e');\n",
              "          const dataTable =\n",
              "            await google.colab.kernel.invokeFunction('convertToInteractive',\n",
              "                                                     [key], {});\n",
              "          if (!dataTable) return;\n",
              "\n",
              "          const docLinkHtml = 'Like what you see? Visit the ' +\n",
              "            '<a target=\"_blank\" href=https://colab.research.google.com/notebooks/data_table.ipynb>data table notebook</a>'\n",
              "            + ' to learn more about interactive tables.';\n",
              "          element.innerHTML = '';\n",
              "          dataTable['output_type'] = 'display_data';\n",
              "          await google.colab.output.renderOutput(dataTable, element);\n",
              "          const docLink = document.createElement('div');\n",
              "          docLink.innerHTML = docLinkHtml;\n",
              "          element.appendChild(docLink);\n",
              "        }\n",
              "      </script>\n",
              "    </div>\n",
              "  </div>\n",
              "  "
            ]
          },
          "metadata": {},
          "execution_count": 72
        }
      ],
      "source": [
        "ds = pd.read_csv(r\"/content/emo_ds_7_test.csv\")\n",
        "ds.head()\n"
      ]
    },
    {
      "cell_type": "markdown",
      "id": "69b7c3c1",
      "metadata": {
        "id": "69b7c3c1"
      },
      "source": [
        "Count of sentences for each emotion label in test dataset:\n",
        "    "
      ]
    },
    {
      "cell_type": "markdown",
      "id": "f8ba27e7",
      "metadata": {
        "id": "f8ba27e7"
      },
      "source": [
        "0 - Angry"
      ]
    },
    {
      "cell_type": "markdown",
      "id": "d363d56d",
      "metadata": {
        "id": "d363d56d"
      },
      "source": [
        "1 - Happy"
      ]
    },
    {
      "cell_type": "markdown",
      "id": "d06ed78c",
      "metadata": {
        "id": "d06ed78c"
      },
      "source": [
        "2 - Neutral"
      ]
    },
    {
      "cell_type": "markdown",
      "id": "6790ea25",
      "metadata": {
        "id": "6790ea25"
      },
      "source": [
        "3 - Sad"
      ]
    },
    {
      "cell_type": "code",
      "execution_count": 73,
      "id": "73afaee6",
      "metadata": {
        "colab": {
          "base_uri": "https://localhost:8080/"
        },
        "id": "73afaee6",
        "outputId": "a6a17a9e-c830-422e-e3a2-535b84b395d0"
      },
      "outputs": [
        {
          "output_type": "execute_result",
          "data": {
            "text/plain": [
              "Class\n",
              "0    74\n",
              "1    78\n",
              "2    83\n",
              "3    75\n",
              "Name: Class, dtype: int64"
            ]
          },
          "metadata": {},
          "execution_count": 73
        }
      ],
      "source": [
        "ds.groupby('Class').Class.count()\n",
        "#0-angry \n",
        "#1-happy \n",
        "#2-neutral\n",
        "#3-sad"
      ]
    },
    {
      "cell_type": "code",
      "execution_count": 74,
      "id": "213b6e0d",
      "metadata": {
        "id": "213b6e0d"
      },
      "outputs": [],
      "source": [
        "X_train=X\n",
        "y_train=y\n",
        "\n",
        "X_test=ds['Text']\n",
        "y_test=ds['Class']"
      ]
    },
    {
      "cell_type": "markdown",
      "id": "883ae95f",
      "metadata": {
        "id": "883ae95f"
      },
      "source": [
        "Number of sentences in train dataset:"
      ]
    },
    {
      "cell_type": "code",
      "execution_count": 75,
      "id": "32f45f01",
      "metadata": {
        "colab": {
          "base_uri": "https://localhost:8080/"
        },
        "id": "32f45f01",
        "outputId": "b2469405-df2c-4168-c9cd-ce5b31d371fe"
      },
      "outputs": [
        {
          "output_type": "execute_result",
          "data": {
            "text/plain": [
              "1571"
            ]
          },
          "metadata": {},
          "execution_count": 75
        }
      ],
      "source": [
        "len(X_train)"
      ]
    },
    {
      "cell_type": "code",
      "execution_count": 76,
      "id": "fc3c4743",
      "metadata": {
        "colab": {
          "base_uri": "https://localhost:8080/"
        },
        "id": "fc3c4743",
        "outputId": "2c5535df-5647-445a-f72a-da490ab54b88"
      },
      "outputs": [
        {
          "output_type": "execute_result",
          "data": {
            "text/plain": [
              "0                       ಹೋಟೆಲ್ ಕಳಪೆಯಾಗಿ ನಿರ್ವಹಿಸಲ್ಪಟ್ಟಿದೆ\n",
              "1                            ಅವರು ಕೆಟ್ಟ ಸೇವೆಯನ್ನು ನೀಡಿದರು\n",
              "2             ಕ್ಯಾಬ್‌ನ ಒಳಭಾಗವನ್ನು ಸರಿಯಾಗಿ ನಿರ್ವಹಿಸಲಾಗಿಲ್ಲ\n",
              "3                                      ಕ್ಯಾಬ್ ಒಳಭಾಗ ಕೊಳಕು\n",
              "4                 ನಾವು ಅಗ್ಗದ ವಿಮಾನವನ್ನು ಬುಕ್ ಮಾಡಬಹುದಿತ್ತು\n",
              "                              ...                        \n",
              "1566         ಅವನ ತಂದೆಯ ಕೋಪದ ದನಿಯು ಕಪಾಳಮೋಕ್ಷದಿಂದ ಕೂಡಿತ್ತು.\n",
              "1567    ಆಗ ಒಬ್ಬ ತೆಳ್ಳಗಿನ, ಮಸುಕಾದ ಸೈನಿಕನು, ಅವನ ಕುತ್ತಿಗೆ...\n",
              "1568              ಅವಳ ಕಣ್ಣುಗಳು ಕೋಪಗೊಂಡ ಮೋಡಗಳ ಕಡೆಗೆ ಹೋದವು.\n",
              "1569    ಅವನಿಗೆ ಒಂದು ನಿಮಿಷ ಕೋಪ ಮತ್ತು ಮರುಕ್ಷಣ ತಮಾಷೆ ಮಾಡಿ...\n",
              "1570    ಅವನ ದೇಹವು ಕೋಪಗೊಂಡ ಶಕ್ತಿಯಿಂದ ಅಲೆಯುತ್ತಿತ್ತು, ಅದು...\n",
              "Name: Text, Length: 1571, dtype: object"
            ]
          },
          "metadata": {},
          "execution_count": 76
        }
      ],
      "source": [
        "X_train"
      ]
    },
    {
      "cell_type": "markdown",
      "id": "be2123b6",
      "metadata": {
        "id": "be2123b6"
      },
      "source": [
        "Number of sentences in test dataset:"
      ]
    },
    {
      "cell_type": "code",
      "execution_count": 77,
      "id": "30595424",
      "metadata": {
        "colab": {
          "base_uri": "https://localhost:8080/"
        },
        "id": "30595424",
        "outputId": "5506ded5-a422-428d-9231-e0d58b125c2c"
      },
      "outputs": [
        {
          "output_type": "execute_result",
          "data": {
            "text/plain": [
              "310"
            ]
          },
          "metadata": {},
          "execution_count": 77
        }
      ],
      "source": [
        "len(X_test)"
      ]
    },
    {
      "cell_type": "code",
      "execution_count": 78,
      "id": "06426a43",
      "metadata": {
        "colab": {
          "base_uri": "https://localhost:8080/"
        },
        "id": "06426a43",
        "outputId": "0b027f5e-964a-41b1-fd07-a204f3d5de45"
      },
      "outputs": [
        {
          "output_type": "execute_result",
          "data": {
            "text/plain": [
              "0                      ಹೋಟೆಲ್ ಕಳಪೆಯಾಗಿ ನಿರ್ವಹಿಸಲ್ಪಟ್ಟಿದೆ\n",
              "1                           ಇದು ಸರಿಯಾಗಿ ಕೆಲಸ ಮಾಡುತ್ತಿಲ್ಲ\n",
              "2                                ನನ್ನ ಅದೃಷ್ಟ ಚೆನ್ನಾಗಿಲ್ಲ\n",
              "3                           ನಮಗೆ ತುಂಬಾ ಕೆಟ್ಟ ಅನುಭವವಾಗಿದೆ\n",
              "4                                       ನೀನು ನಿಷ್ಪ್ರಯೋಜಕ\n",
              "                             ...                        \n",
              "305    ನಾನು ತಡರಾತ್ರಿಯಲ್ಲಿ ಕೆಲಸ ಮಾಡುವುದನ್ನು ದ್ವೇಷಿಸುತ್...\n",
              "306    ಈ ಹಾಡು ಎಷ್ಟು ದುಃಖಕರವಾಗಿದೆಯೆಂದರೆ ನನ್ನ ಏಳು ವರ್ಷದ...\n",
              "307     ನಾನು ಈಗಾಗಲೇ ಶಾಲೆಯ ಕೆಲಸದಿಂದ ತುಂಬಾ ಆಯಾಸಗೊಂಡಿದ್ದೇನೆ\n",
              "308    ಕಾಲೇಜು ದಿನಗಳು ಹೆಚ್ಚು ಖುಷಿಯಾಗಿರಬೇಕೆಂದು ನಾನು ಬಯಸ...\n",
              "309    ನನಗೆ ತುಂಬ ಬೇಜಾರಾಗಿದೆ. ನನ್ನ ಒಡಹುಟ್ಟಿದವರು ಪಾರ್ಟ...\n",
              "Name: Text, Length: 310, dtype: object"
            ]
          },
          "metadata": {},
          "execution_count": 78
        }
      ],
      "source": [
        "X_test"
      ]
    },
    {
      "cell_type": "code",
      "execution_count": 79,
      "id": "bd4ddc50",
      "metadata": {
        "colab": {
          "base_uri": "https://localhost:8080/"
        },
        "id": "bd4ddc50",
        "outputId": "a7b35ce0-3aee-4c8c-b1ac-d7998cddf585"
      },
      "outputs": [
        {
          "output_type": "execute_result",
          "data": {
            "text/plain": [
              "pandas.core.series.Series"
            ]
          },
          "metadata": {},
          "execution_count": 79
        }
      ],
      "source": [
        "type(y_train)"
      ]
    },
    {
      "cell_type": "markdown",
      "id": "77892d4c",
      "metadata": {
        "id": "77892d4c"
      },
      "source": [
        "List of stopwords:"
      ]
    },
    {
      "cell_type": "code",
      "execution_count": 80,
      "id": "73e952b8",
      "metadata": {
        "id": "73e952b8"
      },
      "outputs": [],
      "source": [
        "stop_words = ['',' ','.','ಈ','ಆದರೆ','ಎಂದು','ಅವರ','ಮತ್ತು','ಎಂಬ','ಅವರು','ಒಂದು','ಬಗ್ಗೆ','ಆ','ಇದೆ','ಇದು','ನಾನು','ಮೂಲಕ','ನನ್ನ','ಅದು','ಮೇಲೆ','ಈಗ','ಹಾಗೂ','ಇಲ್ಲ','ಮೊದಲ','ನನಗೆ','ಹೆಚ್ಚು','ಅವರಿಗೆ','ತಮ್ಮ','ಮಾಡಿ','ನಮ್ಮ','ಮಾತ್ರ','ದೊಡ್ಡ','ಅದೇ','ಕೂಡ','ಸಿನಿಮಾ','ಯಾವುದೇ','ಯಾವ','ಆಗ','ತುಂಬಾ','ನಾವು','ದಿನ','ಬೇರೆ','ಅವರನ್ನು','ಎಲ್ಲಾ','ನೀವು','ಸಾಕಷ್ಟು','ಕನ್ನಡ','ಹೊಸ','ಮುಂದೆ','ಹೇಗೆ','ನಂತರ','ಇಲ್ಲಿ','ಕೆಲಸ','ಅಲ್ಲ','ಬಳಿಕ','ಒಳ್ಳೆಯ','ಹಾಗಾಗಿ','ಒಂದೇ','ಜನ','ಅದನ್ನು','ಬಂದ','ಕಾರಣ','ಅವಕಾಶ','ವರ್ಷ','ನಿಮ್ಮ','ಇತ್ತು','ಚಿತ್ರ','ಹೇಳಿ','ಮಾಡಿದ','ಅದಕ್ಕೆ','ಆಗಿ','ಎಂಬುದು','ಅಂತ','2','ಕೆಲವು','ಮೊದಲು','ಬಂದು','ಇದೇ','ನೋಡಿ','ಕೇವಲ','ಎರಡು','ಇನ್ನು','ಅಷ್ಟೇ','ಎಷ್ಟು','ಚಿತ್ರದ','ಮಾಡಬೇಕು','ಹೀಗೆ','ಕುರಿತು','5','ಉತ್ತರ','ಎಂದರೆ','ಇನ್ನೂ','ಮತ್ತೆ','ಏನು','ಪಾತ್ರ','ಮುಂದಿನ','ಸಂದರ್ಭದಲ್ಲಿ','ಮಾಡುವ','ವೇಳೆ','ನನ್ನನ್ನು','ಮೂರು','ಅಥವಾ','ಜೊತೆಗೆ','ಹೆಸರು','ಚಿತ್ರದಲ್ಲಿ']\n",
        "#stop_words"
      ]
    },
    {
      "cell_type": "markdown",
      "id": "ab50f93d",
      "metadata": {
        "id": "ab50f93d"
      },
      "source": [
        "Length of stopword list:"
      ]
    },
    {
      "cell_type": "code",
      "execution_count": 81,
      "id": "7d1badbe",
      "metadata": {
        "colab": {
          "base_uri": "https://localhost:8080/"
        },
        "id": "7d1badbe",
        "outputId": "d949b816-4652-4152-eb45-5dd805f4bdae"
      },
      "outputs": [
        {
          "output_type": "execute_result",
          "data": {
            "text/plain": [
              "105"
            ]
          },
          "metadata": {},
          "execution_count": 81
        }
      ],
      "source": [
        "len(stop_words)"
      ]
    },
    {
      "cell_type": "markdown",
      "id": "8b0825da",
      "metadata": {
        "id": "8b0825da"
      },
      "source": [
        "Using CountVectorizer to produce sparse representation of data:"
      ]
    },
    {
      "cell_type": "code",
      "execution_count": 82,
      "id": "5f0fc422",
      "metadata": {
        "colab": {
          "base_uri": "https://localhost:8080/"
        },
        "id": "5f0fc422",
        "outputId": "a00c9bc9-624a-495e-f6ea-b16e242e0904"
      },
      "outputs": [
        {
          "output_type": "stream",
          "name": "stderr",
          "text": [
            "/usr/local/lib/python3.8/dist-packages/sklearn/feature_extraction/text.py:516: UserWarning: The parameter 'token_pattern' will not be used since 'tokenizer' is not None'\n",
            "  warnings.warn(\n"
          ]
        }
      ],
      "source": [
        "def my_tokenizer(s):\n",
        "    return s.split(' ')\n",
        "\n",
        "from sklearn.feature_extraction.text import CountVectorizer\n",
        "vect = CountVectorizer(min_df=2, ngram_range=(1, 3), encoding='ISCII',tokenizer=my_tokenizer,stop_words=stop_words).fit(X_train)\n"
      ]
    },
    {
      "cell_type": "code",
      "execution_count": 83,
      "id": "c83672e2",
      "metadata": {
        "colab": {
          "base_uri": "https://localhost:8080/"
        },
        "id": "c83672e2",
        "outputId": "fbdef404-711d-4825-8f5c-ac0eb96a780d"
      },
      "outputs": [
        {
          "output_type": "stream",
          "name": "stdout",
          "text": [
            "1335\n"
          ]
        },
        {
          "output_type": "stream",
          "name": "stderr",
          "text": [
            "/usr/local/lib/python3.8/dist-packages/sklearn/utils/deprecation.py:87: FutureWarning: Function get_feature_names is deprecated; get_feature_names is deprecated in 1.0 and will be removed in 1.2. Please use get_feature_names_out instead.\n",
            "  warnings.warn(msg, category=FutureWarning)\n"
          ]
        }
      ],
      "source": [
        "print(len(vect.get_feature_names())) "
      ]
    },
    {
      "cell_type": "code",
      "execution_count": 84,
      "id": "9fd8a09d",
      "metadata": {
        "colab": {
          "base_uri": "https://localhost:8080/"
        },
        "id": "9fd8a09d",
        "outputId": "4349b391-7a1e-4cdd-c950-71a66b0ba7dc"
      },
      "outputs": [
        {
          "output_type": "execute_result",
          "data": {
            "text/plain": [
              "['!!',\n",
              " '!!!',\n",
              " '-',\n",
              " '...',\n",
              " '10',\n",
              " '15',\n",
              " '15 ನಿಮಿಷಗಳ',\n",
              " '3',\n",
              " '6',\n",
              " '7',\n",
              " '9',\n",
              " ':)',\n",
              " 'ewww!!',\n",
              " 'la',\n",
              " 'rip',\n",
              " 'ಅಂತಹ',\n",
              " 'ಅಂತಹ ಉತ್ತಮ',\n",
              " 'ಅಂತಹ ಸುಂದರವಾದ',\n",
              " 'ಅಂತಿಮ',\n",
              " 'ಅಂತಿಮವಾಗಿ',\n",
              " 'ಅಂತ್ಯಕ್ರಿಯೆಯಲ್ಲಿ',\n",
              " 'ಅಂದರೆ',\n",
              " 'ಅಂದ್ರೆ',\n",
              " 'ಅಕ್ಕಿ',\n",
              " 'ಅಕ್ಕಿ ಕೊಡು',\n",
              " 'ಅಗತ್ಯವಿರುವ',\n",
              " 'ಅಗ್ಗದ',\n",
              " 'ಅಗ್ಗದ ವಿಮಾನ',\n",
              " 'ಅಗ್ಗದ ವಿಮಾನ ಟಿಕೆಟ್',\n",
              " 'ಅಗ್ಗದ ವಿಮಾನವನ್ನು',\n",
              " 'ಅಗ್ಗದ ವಿಮಾನವನ್ನು ಬುಕ್',\n",
              " 'ಅಜ್ಜ',\n",
              " 'ಅಜ್ಜಿಯನ್ನು',\n",
              " 'ಅಣ್ಣ',\n",
              " 'ಅತಿ',\n",
              " 'ಅತೃಪ್ತನಾಗಿದ್ದೇನೆ',\n",
              " 'ಅತೃಪ್ತಿ',\n",
              " 'ಅತೃಪ್ತಿ ಹೊಂದಿದ್ದೇನೆ',\n",
              " 'ಅತೃಪ್ತಿಯನ್ನು',\n",
              " 'ಅತೃಪ್ತಿಯನ್ನು ಅನುಭವಿಸಲು',\n",
              " 'ಅತೃಪ್ತಿಯನ್ನು ಅನುಭವಿಸಲು ವರ್ಷದ',\n",
              " 'ಅತ್ಯಂತ',\n",
              " 'ಅತ್ಯುತ್ತಮ',\n",
              " 'ಅದರ',\n",
              " 'ಅದರಲ್ಲಿ',\n",
              " 'ಅದರಿಂದ',\n",
              " 'ಅದೃಷ್ಟ',\n",
              " 'ಅದೊಂದು',\n",
              " 'ಅದ್ಭುತ',\n",
              " 'ಅದ್ಭುತ!',\n",
              " 'ಅದ್ಭುತವಾಗಿ',\n",
              " 'ಅದ್ಭುತವಾಗಿತ್ತು!',\n",
              " 'ಅದ್ಭುತವಾಗಿದೆ',\n",
              " 'ಅದ್ಭುತವಾದ',\n",
              " 'ಅಧ್ಯಯನ',\n",
              " 'ಅಧ್ಯಯನ ಮಾಡಲು',\n",
              " 'ಅನಾರೋಗ್ಯದಿಂದ',\n",
              " 'ಅನಾರೋಗ್ಯದಿಂದ ಬಳಲುತ್ತಿದ್ದೇನೆ',\n",
              " 'ಅನಿರೀಕ್ಷಿತವಾಗಿತ್ತು',\n",
              " 'ಅನಿಸಲಿಲ್ಲ',\n",
              " 'ಅನಿಸುತ್ತದೆ',\n",
              " 'ಅನಿಸುತ್ತದೆ.',\n",
              " 'ಅನಿಸುತ್ತಿದೆ',\n",
              " 'ಅನಿಸುತ್ತಿಲ್ಲ',\n",
              " 'ಅನುಭವಿಸಲು',\n",
              " 'ಅನುಭವಿಸಲು ವರ್ಷದ',\n",
              " 'ಅನುಭವಿಸಲು ವರ್ಷದ ಸುಲಭವಾದ',\n",
              " 'ಅನುಭವಿಸುತ್ತಿದ್ದೇನೆ',\n",
              " 'ಅನುಭವಿಸುತ್ತೇನೆ',\n",
              " 'ಅನುಭವಿಸುವ',\n",
              " 'ಅನುಭವಿಸುವ ನೋವು',\n",
              " 'ಅನುಭವಿಸುವ ನೋವು ತಿಳಿದಿದೆ',\n",
              " 'ಅನೇಕ',\n",
              " 'ಅನೇಕರು',\n",
              " 'ಅನ್ನು',\n",
              " 'ಅನ್ನು ಬುಕ್',\n",
              " 'ಅನ್ಯಾಯ',\n",
              " 'ಅನ್ಯಾಯ ಮಾಡಿದೆ',\n",
              " 'ಅನ್ಯಾಯ ಮಾಡಿದೆ ಭಾವಿಸುವ',\n",
              " 'ಅಪಘಾತದಲ್ಲಿ',\n",
              " 'ಅಪಘಾತದಲ್ಲಿ ತನ್ನ',\n",
              " 'ಅಪಘಾತವನ್ನು',\n",
              " 'ಅಪಘಾತವನ್ನು ಎದುರಿಸಿದರು',\n",
              " 'ಅಪಾಯಕಾರಿ',\n",
              " 'ಅಪಾಯಕಾರಿ ಭಾವಿಸುತ್ತೇನೆ',\n",
              " 'ಅಪ್',\n",
              " 'ಅಪ್ ಆಗಿದ್ದೇನೆ',\n",
              " 'ಅಪ್ ಆಗಿದ್ದೇನೆ ಈಗಾಗಲೇ',\n",
              " 'ಅಪ್ಲಿಕೇಶನ್',\n",
              " 'ಅಪ್ಲಿಕೇಶನ್ ಅನ್ನು',\n",
              " 'ಅಪ್ಲಿಕೇಶನ್ ಆಗಿದೆ',\n",
              " 'ಅಪ್ಲಿಕೇಶನ್ ಉತ್ತಮವಾಗಿ',\n",
              " 'ಅಭಿನಂದನೆಗಳು',\n",
              " 'ಅಮ್ಮ',\n",
              " 'ಅಯ್ಯೋ',\n",
              " 'ಅರ್ಥವಾಗುತ್ತಿಲ್ಲ',\n",
              " 'ಅಲ್ಲಿ',\n",
              " 'ಅಳುತ್ತಾಳೆ',\n",
              " 'ಅಳುವಂತೆ',\n",
              " 'ಅಳುವಂತೆ ಮಾಡುತ್ತದೆ',\n",
              " 'ಅವನ',\n",
              " 'ಅವನ ಹೆಂಡತಿ',\n",
              " 'ಅವನನ್ನು',\n",
              " 'ಅವನಿಗೆ',\n",
              " 'ಅವನಿಗೆ ಮೋಸ',\n",
              " 'ಅವನು',\n",
              " 'ಅವನು ಅವಳ',\n",
              " 'ಅವನು ಕೋಪಗೊಂಡಿದ್ದಾನೆ',\n",
              " 'ಅವನು ತನ್ನ',\n",
              " 'ಅವನು ಯಶಸ್ವಿಯಾಗಲಿಲ್ಲ',\n",
              " 'ಅವರೆಲ್ಲರೂ',\n",
              " 'ಅವರೆಲ್ಲರೂ ದುಃಖಿತರಾಗಿದ್ದಾರೆ',\n",
              " 'ಅವರೆಲ್ಲರೂ ದುಃಖಿತರಾಗಿದ್ದಾರೆ ಹೃದಯಹೀನ',\n",
              " 'ಅವಳ',\n",
              " 'ಅವಳನ್ನು',\n",
              " 'ಅವಳಿಗೆ',\n",
              " 'ಅವಳು',\n",
              " 'ಅವಳು ಅವನ',\n",
              " 'ಅವಳು ಕೋಪಗೊಂಡಿದ್ದಾಳೆ',\n",
              " 'ಅವಳು ತನ್ನ',\n",
              " 'ಅವಳೊಂದಿಗೆ',\n",
              " 'ಅವುಗಳನ್ನು',\n",
              " 'ಅಷ್ಟು',\n",
              " 'ಅಸಭ್ಯವಾಗಿ',\n",
              " 'ಅಸಹ್ಯಕರ',\n",
              " 'ಅಸೂಯೆ',\n",
              " 'ಅಸ್ವಸ್ಥನಾಗಿದ್ದೇನೆ',\n",
              " 'ಅಹಿತಕರವಾಗಿರುತ್ತದೆ',\n",
              " 'ಆಕೆ',\n",
              " 'ಆಕೆಗೆ',\n",
              " 'ಆಕೆಗೆ ಕ್ಯಾನ್ಸರ್',\n",
              " 'ಆಕೆಯ',\n",
              " 'ಆಕೆಯ ಪೋಷಕರು',\n",
              " 'ಆಕೆಯನ್ನು',\n",
              " 'ಆಕ್ಷನ್',\n",
              " 'ಆಗಾಗ್ಗೆ',\n",
              " 'ಆಗಿತ್ತು',\n",
              " 'ಆಗಿದೆ',\n",
              " 'ಆಗಿದ್ದೇನೆ',\n",
              " 'ಆಗಿದ್ದೇನೆ ಈಗಾಗಲೇ',\n",
              " 'ಆಗಿದ್ದೇನೆ ಈಗಾಗಲೇ ಅನಿಸುತ್ತದೆ',\n",
              " 'ಆಚರಿಸಲು',\n",
              " 'ಆಟಕ್ಕೆ',\n",
              " 'ಆಟೋ',\n",
              " 'ಆಡಿದೆ',\n",
              " 'ಆತ್ಮಹತ್ಯೆ',\n",
              " 'ಆತ್ಮೀಯ',\n",
              " 'ಆತ್ಮೀಯ ಸ್ನೇಹಿತನೊಂದಿಗೆ',\n",
              " 'ಆದರೂ',\n",
              " 'ಆದ್ದರಿಂದ',\n",
              " 'ಆದ್ದರಿಂದ ಊಹಿಸುತ್ತೇನೆ',\n",
              " 'ಆನಂದಿಸಿ!',\n",
              " 'ಆನ್',\n",
              " 'ಆಫ್',\n",
              " 'ಆಯಾಸಗೊಂಡಿದ್ದೇನೆ',\n",
              " 'ಆಲೋಚನೆಯಲ್ಲಿ',\n",
              " 'ಆಲ್',\n",
              " 'ಆಲ್ ದಿ',\n",
              " 'ಆಲ್ ದಿ ಬೆಸ್ಟ್!',\n",
              " 'ಆಶ್ಚರ್ಯ',\n",
              " 'ಆಶ್ಚರ್ಯವಾಯಿತು',\n",
              " 'ಆಸ್ಪತ್ರೆಗೆ',\n",
              " 'ಆಹಾರ',\n",
              " 'ಆಹಾರವನ್ನು',\n",
              " 'ಆಹಾರವು',\n",
              " 'ಆಹ್ಲಾದಕರ',\n",
              " 'ಇಂಗ್ಲಿಷ್',\n",
              " 'ಇಂಟರ್ನೆಟ್',\n",
              " 'ಇಂದಿನ',\n",
              " 'ಇಂದು',\n",
              " 'ಇಂದು ಕಹಿಯಾಗಿದ್ದೇನೆ,',\n",
              " 'ಇಂದು ಕಹಿಯಾಗಿದ್ದೇನೆ, ಇಡೀ',\n",
              " 'ಇಂದು ನಿಮ್ಮನ್ನು',\n",
              " 'ಇಂದು ಮಾಡಲು',\n",
              " 'ಇಂದು ರಾತ್ರಿ',\n",
              " 'ಇಂದು ಸಂಜೆ',\n",
              " 'ಇಡೀ',\n",
              " 'ಇಡೀ ಕುಟುಂಬವನ್ನು',\n",
              " 'ಇಡೀ ಮನಸ್ಥಿತಿ',\n",
              " 'ಇಡೀ ಮನಸ್ಥಿತಿ ವಿಚಿತ್ರವಾಗಿದೆ',\n",
              " 'ಇತರ',\n",
              " 'ಇತರರ',\n",
              " 'ಇತರರಿಗಾಗಿ',\n",
              " 'ಇತರರಿಗಾಗಿ ಪ್ರಾರ್ಥನೆಯನ್ನು',\n",
              " 'ಇತರರಿಗಾಗಿ ಪ್ರಾರ್ಥನೆಯನ್ನು ಕೇಳಲಿಲ್ಲ,',\n",
              " 'ಇತರರು',\n",
              " 'ಇತ್ತೀಚಿನ',\n",
              " 'ಇತ್ತೀಚೆಗೆ',\n",
              " 'ಇದಕ್ಕೆ',\n",
              " 'ಇದನ್ನು',\n",
              " 'ಇದನ್ನು ಮಾಡಲು',\n",
              " 'ಇದೀಗ',\n",
              " 'ಇದೆ.',\n",
              " 'ಇದೆಯೇ?',\n",
              " 'ಇದ್ದರೆ',\n",
              " 'ಇದ್ದೆ',\n",
              " 'ಇನ್ನಷ್ಟು',\n",
              " 'ಇನ್ನೊಂದು',\n",
              " 'ಇನ್ನೊಂದು ದೇಶದಲ್ಲಿ',\n",
              " 'ಇನ್ನೊಂದು ದೇಶದಲ್ಲಿ ಕಳೆಯಲು',\n",
              " 'ಇನ್ನೊಬ್ಬ',\n",
              " 'ಇಮೇಲ್',\n",
              " 'ಇರುತ್ತೇನೆ',\n",
              " 'ಇರುವ',\n",
              " 'ಇರುವ ದ್ವೇಷವನ್ನು',\n",
              " 'ಇರುವ ದ್ವೇಷವನ್ನು ಬಿಡುತ್ತಿದ್ದೇನೆ',\n",
              " 'ಇಲ್ಲದೆ',\n",
              " 'ಇವತ್ತು',\n",
              " 'ಇವೆ',\n",
              " 'ಇಷ್ಟ',\n",
              " 'ಇಷ್ಟ ಪಡುತ್ತೇನೆ!',\n",
              " 'ಇಷ್ಟಪಡುತ್ತೇನೆ',\n",
              " 'ಇಷ್ಟಪಡುವುದಿಲ್ಲ',\n",
              " 'ಇಷ್ಟಪಡುವುದಿಲ್ಲ ಏಕೆಂದರೆ',\n",
              " 'ಇಷ್ಟು',\n",
              " 'ಈಗಷ್ಟೇ',\n",
              " 'ಈಗಾಗಲೇ',\n",
              " 'ಈಗಾಗಲೇ ಅನಿಸುತ್ತದೆ',\n",
              " 'ಉಚಿತ',\n",
              " 'ಉಡುಪನ್ನು',\n",
              " 'ಉತ್ತಮ',\n",
              " 'ಉತ್ತಮ ಸ್ನೇಹಿತರು',\n",
              " 'ಉತ್ತಮವಾಗಿ',\n",
              " 'ಉತ್ತರವಿಲ್ಲ',\n",
              " 'ಉತ್ತೀರ್ಣರಾಗಲು',\n",
              " 'ಉತ್ಪನ್ನವು',\n",
              " 'ಉತ್ಸುಕನಾಗಿದ್ದೇನೆ',\n",
              " 'ಉತ್ಸುಕನಾಗಿದ್ದೇನೆ ಇನ್ನೊಂದು',\n",
              " 'ಉತ್ಸುಕನಾಗಿದ್ದೇನೆ ಇನ್ನೊಂದು ದೇಶದಲ್ಲಿ',\n",
              " 'ಉರಿಯುತ್ತಿರುವಂತೆ',\n",
              " 'ಉರಿಯುತ್ತಿರುವಂತೆ ಭಾವಿಸುತ್ತೇನೆ',\n",
              " 'ಉಳಿದಿದೆ',\n",
              " 'ಉಳಿದಿವೆ',\n",
              " 'ಉಳಿಯುತ್ತದೆ',\n",
              " 'ಉಳಿಸಲು',\n",
              " 'ಉಳಿಸಲು ಸಾಧ್ಯವಾಗಲಿಲ್ಲ',\n",
              " 'ಉಳಿಸಿ!',\n",
              " 'ಊಟ',\n",
              " 'ಊಟಕ್ಕೆ',\n",
              " 'ಊಟವು',\n",
              " 'ಊಹಿಸುತ್ತೇನೆ',\n",
              " 'ಎಂಜಾಯ್',\n",
              " 'ಎಂತಹ',\n",
              " 'ಎಂತಹ ಉತ್ತಮ',\n",
              " 'ಎಂದಿಗೂ',\n",
              " 'ಎಂದಿಗೂ ಪರಿಗಣಿಸಲಿಲ್ಲ',\n",
              " 'ಎಂಬುದಕ್ಕೆ',\n",
              " 'ಎದುರಿಸಿದರು',\n",
              " 'ಎನ್',\n",
              " 'ಎರಡನೇ',\n",
              " 'ಎರಡೂ',\n",
              " 'ಎಲ್ಲರಿಗೂ',\n",
              " 'ಎಲ್ಲರೂ',\n",
              " 'ಎಲ್ಲವೂ',\n",
              " 'ಎಲ್ಲಿಗೆ',\n",
              " 'ಎಲ್ಲೋ',\n",
              " 'ಎಷ್ಟು?',\n",
              " 'ಏಕೆ',\n",
              " 'ಏಕೆಂದರೆ',\n",
              " 'ಏಕೆಂದರೆ ಅವಳು',\n",
              " 'ಏಕೆಂದರೆ ಹೇ',\n",
              " 'ಏಕೆಂದರೆ ಹೇ ಬಾರಿಗೆ',\n",
              " 'ಏಕೈಕ',\n",
              " 'ಏಕೈಕ ಮಗುವನ್ನು',\n",
              " 'ಏನನ್ನಾದರೂ',\n",
              " 'ಏನನ್ನೂ',\n",
              " 'ಏನನ್ನೂ ಮಾಡದೆ',\n",
              " 'ಏನನ್ನೂ ಮಾಡದೆ ಏನನ್ನೂ',\n",
              " 'ಏನನ್ನೂ ಮಾಡಲು',\n",
              " 'ಏನನ್ನೂ ಹೇಳದೆ',\n",
              " 'ಏನನ್ನೂ ಹೇಳದೆ ಕಿರಿಕಿರಿ',\n",
              " 'ಏನಾದರೂ',\n",
              " 'ಏನಾಯಿತು',\n",
              " 'ಏನು?',\n",
              " 'ಏನೂ',\n",
              " 'ಏಳು',\n",
              " 'ಐಡಿ',\n",
              " 'ಐದು',\n",
              " 'ಐಸ್',\n",
              " 'ಐಸ್ ಕ್ರೀಮ್',\n",
              " 'ಒಂದನ್ನು',\n",
              " 'ಒತ್ತಡವನ್ನು',\n",
              " 'ಒತ್ತಡವನ್ನು ಅನುಭವಿಸುತ್ತಿದ್ದೇನೆ',\n",
              " 'ಒಬ್ಬ',\n",
              " 'ಒಬ್ಬ ವ್ಯಕ್ತಿ',\n",
              " 'ಒಮ್ಮೆ',\n",
              " 'ಒಳಗಾಗಿದ್ದೇನೆ',\n",
              " 'ಒಳಭಾಗ',\n",
              " 'ಒಳ್ಳೆಯದು',\n",
              " 'ಒಳ್ಳೆಯವರು',\n",
              " 'ಓ',\n",
              " 'ಓದಲು',\n",
              " 'ಓದುವಾಗ',\n",
              " 'ಓದುವಾಗ ಸ್ವಾರ್ಥಿ',\n",
              " 'ಓದುವಾಗ ಸ್ವಾರ್ಥಿ ಭಾವಿಸುತ್ತೇನೆ',\n",
              " 'ಓಹ್',\n",
              " 'ಓಹ್!',\n",
              " 'ಓಹ್,',\n",
              " 'ಔಟ್',\n",
              " 'ಕಂಡುಬಂದಿದೆ',\n",
              " 'ಕಂಪ್ಯೂಟರ್',\n",
              " 'ಕಂಪ್ಯೂಟರ್\\u200cನಲ್ಲಿ',\n",
              " 'ಕಡಿಮೆ',\n",
              " 'ಕಡಿಮೆಯಾಗಿದೆ.',\n",
              " 'ಕಡೆಗೆ',\n",
              " 'ಕಣ್ಣುಗಳನ್ನು',\n",
              " 'ಕಥೆ',\n",
              " 'ಕದ್ದಿದ್ದಾರೆ',\n",
              " 'ಕರೆ',\n",
              " 'ಕರೆದುಕೊಂಡು',\n",
              " 'ಕರೆದೊಯ್ಯುತ್ತಾರೆ',\n",
              " 'ಕರ್ನಾಟಕ',\n",
              " 'ಕಳಪೆ',\n",
              " 'ಕಳೆದ',\n",
              " 'ಕಳೆದುಕೊಂಡೆ',\n",
              " 'ಕಳೆದುಕೊಂಡರು',\n",
              " 'ಕಳೆದುಕೊಂಡರು.',\n",
              " 'ಕಳೆದುಕೊಂಡಳು.',\n",
              " 'ಕಳೆದುಕೊಂಡಿದ್ದಾರೆ.',\n",
              " 'ಕಳೆದುಕೊಂಡೆ',\n",
              " 'ಕಳೆದುಕೊಂಡೆ.',\n",
              " 'ಕಳೆದುಕೊಳ್ಳುತ್ತೇನೆ',\n",
              " 'ಕಳೆದುಕೊಳ್ಳುತ್ತೇನೆ.',\n",
              " 'ಕಳೆದುಕೊಳ್ಳುವ',\n",
              " 'ಕಳೆಯಲು',\n",
              " 'ಕಳೆಯಲು ನಿಮಗೆ',\n",
              " 'ಕಳೆಯಲು ನಿಮಗೆ ತಿಳಿದಿದೆ',\n",
              " 'ಕಷ್ಟಪಟ್ಟು',\n",
              " 'ಕಹಿ',\n",
              " 'ಕಹಿಯಾಗಿದ್ದೇನೆ,',\n",
              " 'ಕಹಿಯಾಗಿದ್ದೇನೆ, ಇಡೀ',\n",
              " 'ಕಹಿಯಾಗಿದ್ದೇನೆ, ಇಡೀ ಮನಸ್ಥಿತಿ',\n",
              " 'ಕಾಣುತ್ತೀರಿ!',\n",
              " 'ಕಾಫಿ',\n",
              " 'ಕಾಯಲು',\n",
              " 'ಕಾಯಲು ಸಾಧ್ಯವಿಲ್ಲ!',\n",
              " 'ಕಾಯಲು ಸಾಧ್ಯವಿಲ್ಲ.',\n",
              " 'ಕಾಯಿಲೆಗೆ',\n",
              " 'ಕಾಯಿಲೆಗೆ ಚಿಕಿತ್ಸೆ',\n",
              " 'ಕಾರು',\n",
              " 'ಕಾರು ಅಪಘಾತದಲ್ಲಿ',\n",
              " 'ಕಾರ್ಯಕ್ರಮದ',\n",
              " 'ಕಾಲ',\n",
              " 'ಕಾಲ ಉಳಿಯುತ್ತದೆ',\n",
              " 'ಕಾಲೇಜು',\n",
              " 'ಕಾಲ್ತುಳಿತದಲ್ಲಿ',\n",
              " 'ಕಾಳಜಿ',\n",
              " 'ಕಿರಿಕಿರಿ',\n",
              " 'ಕಿರಿಕಿರಿ ತಿರಸ್ಕರಿಸಲ್ಪಟ್ಟಿದ್ದೇನೆ',\n",
              " 'ಕಿರಿಕಿರಿಯನ್ನು',\n",
              " 'ಕಿರಿಕಿರಿಯನ್ನು ಅನುಭವಿಸುತ್ತೇನೆ',\n",
              " 'ಕೀಲಿಗಳನ್ನು',\n",
              " 'ಕುಕೀಗಳನ್ನು',\n",
              " 'ಕುಟುಂಬ',\n",
              " 'ಕುಟುಂಬಕ್ಕೆ',\n",
              " 'ಕುಟುಂಬಕ್ಕೆ ವಿದಾಯ',\n",
              " 'ಕುಟುಂಬಕ್ಕೆ ವಿದಾಯ ಹೇಳುತ್ತೇನೆ',\n",
              " 'ಕುಟುಂಬದ',\n",
              " 'ಕುಟುಂಬವನ್ನು',\n",
              " 'ಕುಡಿಯಲು',\n",
              " 'ಕುಡಿಯಲು ಬಯಸುತ್ತೇನೆ',\n",
              " 'ಕುಳಿತು',\n",
              " 'ಕೂಡಿತ್ತು.',\n",
              " 'ಕೂದಲನ್ನು',\n",
              " 'ಕೆಜಿ',\n",
              " 'ಕೆಜಿ ಅಕ್ಕಿ',\n",
              " 'ಕೆಜಿ ಅಕ್ಕಿ ಕೊಡು',\n",
              " 'ಕೆಟ್ಟ',\n",
              " 'ಕೆಟ್ಟ ಸುದ್ದಿ',\n",
              " 'ಕೆಟ್ಟದಾಗಿತ್ತು',\n",
              " 'ಕೆಟ್ಟದಾಗಿದೆ',\n",
              " 'ಕೆಲವೊಮ್ಮೆ',\n",
              " 'ಕೆಲಸಕ್ಕೆ',\n",
              " 'ಕೆಲಸಕ್ಕೆ ಹೋಗಬೇಕು.',\n",
              " 'ಕೆಲಸಗಳನ್ನು',\n",
              " 'ಕೆಲಸದ',\n",
              " 'ಕೆಲಸದಲ್ಲಿ',\n",
              " 'ಕೆಲಸದಿಂದ',\n",
              " 'ಕೆಲಸವನ್ನು',\n",
              " 'ಕೆಳಗೆ',\n",
              " 'ಕೋಪಗೊಂಡಿದ್ದಾನೆ',\n",
              " 'ಕೇಕ್',\n",
              " 'ಕೇಳಲಿಲ್ಲ,',\n",
              " 'ಕೇಳಲು',\n",
              " 'ಕೇಳಿದೆ.',\n",
              " 'ಕೇಳುತ್ತಿದ್ದೇನೆ',\n",
              " 'ಕೈಗಳನ್ನು',\n",
              " 'ಕೊಡಿ',\n",
              " 'ಕೊಡು',\n",
              " 'ಕೊನೆಯ',\n",
              " 'ಕೊನೆಯ ಐಸ್',\n",
              " 'ಕೊನೆಯ ಐಸ್ ಕ್ರೀಮ್',\n",
              " 'ಕೊನೆಯ ದಿನಾಂಕ',\n",
              " 'ಕೊನೆಯ ದಿನಾಂಕ ಯಾವುದು',\n",
              " 'ಕೊಲ್ಲಲಾಯಿತು',\n",
              " 'ಕೊಳಕಾಗಿತ್ತು',\n",
              " 'ಕೊಳಕು',\n",
              " 'ಕೋಪ',\n",
              " 'ಕೋಪ ಉರಿಯುತ್ತಿರುವಂತೆ',\n",
              " 'ಕೋಪ ಉರಿಯುತ್ತಿರುವಂತೆ ಭಾವಿಸುತ್ತೇನೆ',\n",
              " 'ಕೋಪಗೊಂಡ',\n",
              " 'ಕೋಪಗೊಂಡ ಮಗು',\n",
              " 'ಕೋಪಗೊಂಡ ಮಗು ಹಿಂಸಾತ್ಮಕವಾದಾಗ',\n",
              " 'ಕೋಪಗೊಂಡಿದ್ದಾನೆ',\n",
              " 'ಕೋಪಗೊಂಡಿದ್ದಾಳೆ',\n",
              " 'ಕೋಪಗೊಂಡಿದ್ದೇನೆ',\n",
              " 'ಕೋಪಗೊಂಡಿದ್ದೇನೆ ನೆನಪಿದೆ',\n",
              " 'ಕೋಪದ',\n",
              " 'ಕ್ಕೆ',\n",
              " 'ಕ್ಯಾನ್ಸರ್',\n",
              " 'ಕ್ಯಾಬ್',\n",
              " 'ಕ್ಯಾಬ್ ಡ್ರೈವರ್',\n",
              " 'ಕ್ಯಾಬ್ ಬುಕ್',\n",
              " 'ಕ್ಯಾಬ್\\u200cನ',\n",
              " 'ಕ್ರಿಕೆಟ್',\n",
              " 'ಕ್ರಿಸ್',\n",
              " 'ಕ್ರಿಸ್ ಮಸ್',\n",
              " 'ಕ್ರೀಮ್',\n",
              " 'ಕ್ಲಾಸ್',\n",
              " 'ಖಂಡಿತವಾಗಿಯೂ',\n",
              " 'ಖಚಿತವಿಲ್ಲ',\n",
              " 'ಖರೀದಿಸಲು',\n",
              " 'ಖರೀದಿಸಿದೆ',\n",
              " 'ಖರೀದಿಸುತ್ತೇನೆ',\n",
              " 'ಖರ್ಚು',\n",
              " 'ಖಾತೆಯ',\n",
              " 'ಖಾತೆಯನ್ನು',\n",
              " 'ಖಾತೆಯಲ್ಲಿ',\n",
              " 'ಖಿನ್ನತೆಗೆ',\n",
              " 'ಖಿನ್ನತೆಗೆ ಒಳಗಾಗಿದ್ದೇನೆ',\n",
              " 'ಗಂಟೆಗಳ',\n",
              " 'ಗಂಟೆಗಳ ಕಾಲ',\n",
              " 'ಗಂಟೆಗೆ',\n",
              " 'ಗಂಟೆಯ',\n",
              " 'ಗಂಡನನ್ನು',\n",
              " 'ಗಡುವನ್ನು',\n",
              " 'ಗಮನ',\n",
              " 'ಗಳನ್ನು',\n",
              " 'ಗಳು',\n",
              " 'ಗುಡ್',\n",
              " 'ಗುಡ್ ಮಾರ್ನಿಂಗ್',\n",
              " 'ಗೆ',\n",
              " 'ಗೆ ಹೋಗಲು',\n",
              " 'ಗೆ ಹೋಗಲು ಬಯಸುತ್ತೇನೆ',\n",
              " 'ಗೆದ್ದಿದ್ದೀರಿ',\n",
              " 'ಗೆಳೆಯ',\n",
              " 'ಗೇಲಿ',\n",
              " 'ಗೇಲಿ ಮಾಡಿದರು.',\n",
              " 'ಗೊತ್ತಿಲ್ಲ',\n",
              " 'ಗೊತ್ತು',\n",
              " 'ಚಪ್ಪಲಿಯಲ್ಲಿ',\n",
              " 'ಚಲನಚಿತ್ರಗಳನ್ನು',\n",
              " 'ಚಲನಚಿತ್ರವನ್ನು',\n",
              " 'ಚಳಿ',\n",
              " 'ಚಹಾ',\n",
              " 'ಚಾಕೊಲೇಟ್',\n",
              " 'ಚಾನೆಲ್\\u200cಗಳು',\n",
              " 'ಚಾಲಕ',\n",
              " 'ಚಿಕಿತ್ಸೆ',\n",
              " 'ಚಿಕ್ಕಮ್ಮ',\n",
              " 'ಚಿತ್ರಗಳನ್ನು',\n",
              " 'ಚಿತ್ರವು',\n",
              " 'ಚೆನ್ನಾಗಿ',\n",
              " 'ಚೆನ್ನಾಗಿತ್ತು',\n",
              " 'ಚೆನ್ನಾಗಿದೆ',\n",
              " 'ಚೆನ್ನಾಗಿಲ್ಲ',\n",
              " 'ಜಗಳ',\n",
              " 'ಜನರ',\n",
              " 'ಜನರನ್ನು',\n",
              " 'ಜನರಿಗೆ',\n",
              " 'ಜನರು',\n",
              " 'ಜಾಗರೂಕರಾಗಿರಿ',\n",
              " 'ಜೀವನ',\n",
              " 'ಜೀವನದ',\n",
              " 'ಜೀವನದಲ್ಲಿ',\n",
              " 'ಜೀವನವನ್ನು',\n",
              " 'ಜೇನುತುಪ್ಪ',\n",
              " 'ಜ್ವರ',\n",
              " 'ಟಿಕೆಟ್',\n",
              " 'ಟಿಕೆಟ್ ಅನ್ನು',\n",
              " 'ಟಿಕೆಟ್ ಬುಕ್',\n",
              " 'ಟಿಕೆಟ್ ಬುಕ್ ಆಗಿದೆ',\n",
              " 'ಟಿಕೆಟ್\\u200cಗಳನ್ನು',\n",
              " 'ಟಿಕೆಟ್\\u200cಗಳು',\n",
              " 'ಟಿವಿ',\n",
              " 'ಟೈಪ್',\n",
              " 'ಟೈಪ್ ಮಾಡಲು',\n",
              " 'ಟೊಮೆಟೊ',\n",
              " 'ಟ್ರಾಫಿಕ್\\u200cನಲ್ಲಿ',\n",
              " 'ಟ್ವಿಟ್ಟರ್',\n",
              " 'ಟ್ವೀಟ್',\n",
              " 'ಡಾಲರ್',\n",
              " 'ಡಿಗ್ರಿ',\n",
              " 'ಡೌನ್',\n",
              " 'ಡ್ರೈವರ್',\n",
              " 'ತಂಗಿ',\n",
              " 'ತಂಡವು',\n",
              " 'ತಂದೆ',\n",
              " 'ತಂದೆಯ',\n",
              " 'ತಂಪಾಗಿದೆ',\n",
              " 'ತಡವಾಗಿ',\n",
              " 'ತಡವಾಗಿದ್ದೇನೆ',\n",
              " 'ತಡವಾಯಿತು',\n",
              " 'ತಣ್ಣಗಾಗುವುದನ್ನು',\n",
              " 'ತಣ್ಣಗಾಗುವುದನ್ನು ನಿಲ್ಲಿಸಿದೆ',\n",
              " 'ತಣ್ಣಗಾಗುವುದನ್ನು ನಿಲ್ಲಿಸಿದೆ ಬಿಸಿಯಾಗಲು',\n",
              " 'ತಣ್ಣನೆಯ',\n",
              " 'ತನ್ನ',\n",
              " 'ತನ್ನ ಆತ್ಮೀಯ',\n",
              " 'ತನ್ನ ಆತ್ಮೀಯ ಸ್ನೇಹಿತನೊಂದಿಗೆ',\n",
              " 'ತನ್ನ ಕುಟುಂಬವನ್ನು',\n",
              " 'ತಪ್ಪಾಗಿದೆ',\n",
              " 'ತಪ್ಪಿಸಿಕೊಂಡೆ.',\n",
              " 'ತಪ್ಪು',\n",
              " 'ತಮಾಷೆ',\n",
              " 'ತರಗತಿಗಳನ್ನು',\n",
              " 'ತರಗತಿಯಲ್ಲಿ',\n",
              " 'ತರಲು',\n",
              " 'ತಲೆ',\n",
              " 'ತಾಜಾ',\n",
              " 'ತಾಪಮಾನ',\n",
              " 'ತಾಪಮಾನ ಏನು?',\n",
              " 'ತಾಯಿ',\n",
              " 'ತಾಯಿಗೆ',\n",
              " 'ತಿಂಗಳ',\n",
              " 'ತಿಂಗಳು',\n",
              " 'ತಿಂಡಿದ',\n",
              " 'ತಿಂಡಿದ ಮನೆಗೆ',\n",
              " 'ತಿನ್ನಲು',\n",
              " 'ತಿನ್ನುವುದಿಲ್ಲವಾದ್ದರಿಂದ',\n",
              " 'ತಿನ್ನುವುದಿಲ್ಲವಾದ್ದರಿಂದ ಫಕ್',\n",
              " 'ತಿನ್ನುವುದಿಲ್ಲವಾದ್ದರಿಂದ ಫಕ್ ಅಪ್',\n",
              " 'ತಿರಸ್ಕರಿಸಲ್ಪಟ್ಟಿದ್ದೇನೆ',\n",
              " 'ತಿಳಿದಿದೆ',\n",
              " 'ತಿಳಿದಿದೆಯೇ?',\n",
              " 'ತಿಳಿದುಕೊಳ್ಳಬೇಕು',\n",
              " 'ತಿಳಿಸಿ',\n",
              " 'ತೀರಿಕೊಂಡರು',\n",
              " 'ತೀರಿಕೊಂಡರು.',\n",
              " 'ತುಂಬ',\n",
              " 'ತೆಗೆದುಕೊಳ್ಳಬಹುದೇ?',\n",
              " 'ತೆಗೆದುಕೊಳ್ಳಲು',\n",
              " 'ತೋರುತ್ತದೆ',\n",
              " 'ತೋರುತ್ತಿದೆ',\n",
              " 'ತೋರುತ್ತಿದೆ.',\n",
              " 'ಥೂ',\n",
              " 'ಥೂ ನೀನಾ',\n",
              " 'ದಂಪತಿಗಳು',\n",
              " 'ದಣಿದಿದ್ದೇನೆ',\n",
              " 'ದತ್ತು',\n",
              " 'ದತ್ತು ತೆಗೆದುಕೊಳ್ಳಬಹುದೇ?',\n",
              " 'ದಯವಿಟ್ಟು',\n",
              " 'ದಯವಿಟ್ಟು ಹಿಮಕರಡಿಗಳನ್ನು',\n",
              " 'ದಯವಿಟ್ಟು ಹಿಮಕರಡಿಗಳನ್ನು ಉಳಿಸಿ!',\n",
              " 'ದರಿದ್ರ',\n",
              " 'ದಾರಿ',\n",
              " 'ದಾರಿಯಲ್ಲಿ',\n",
              " 'ದಿ',\n",
              " 'ದಿ ಬೆಸ್ಟ್!',\n",
              " 'ದಿನಗಳ',\n",
              " 'ದಿನಗಳನ್ನು',\n",
              " 'ದಿನಗಳಲ್ಲಿ',\n",
              " 'ದಿನಗಳಿಂದ',\n",
              " 'ದಿನಗಳಿವೆ',\n",
              " 'ದಿನಗಳು',\n",
              " 'ದಿನದಂದು',\n",
              " 'ದಿನದಲ್ಲಿ',\n",
              " 'ದಿನವನ್ನು',\n",
              " 'ದಿನವಾಗಿತ್ತು',\n",
              " 'ದಿನವೂ',\n",
              " 'ದಿನಾಂಕ',\n",
              " 'ದಿನಾಂಕ ಯಾವುದು',\n",
              " 'ದಿನಾಂಕವನ್ನು',\n",
              " 'ದುಃಖ',\n",
              " 'ದುಃಖಕರವಾಗಿದೆ',\n",
              " 'ದುಃಖದ',\n",
              " 'ದುಃಖವಾಗಿದೆ',\n",
              " 'ದುಃಖಿತರಾಗಿದ್ದಾರೆ',\n",
              " 'ದುಃಖಿತರಾಗಿದ್ದಾರೆ ಹೃದಯಹೀನ',\n",
              " 'ದುಃಖಿತರಾಗಿದ್ದಾರೆ ಹೃದಯಹೀನ ಬಿಚ್',\n",
              " 'ದುರದೃಷ್ಟಕರ',\n",
              " 'ದುರಾಸೆಯ',\n",
              " 'ದುರಾಸೆಯ ಭಾವನೆ',\n",
              " 'ದೂರದಲ್ಲಿದೆ',\n",
              " 'ದೂರವಾಣಿಯನ್ನು',\n",
              " 'ದೂರವಾಣಿಯನ್ನು ಕಳೆದುಕೊಂಡೆ',\n",
              " 'ದೇವರ',\n",
              " 'ದೇವರು',\n",
              " 'ದೇಶದಲ್ಲಿ',\n",
              " 'ದೇಶದಲ್ಲಿ ಕಳೆಯಲು',\n",
              " 'ದೇಶದಲ್ಲಿ ಕಳೆಯಲು ನಿಮಗೆ',\n",
              " 'ದೊಡ್ಡ',\n",
              " 'ದ್ವೇಷವನ್ನು',\n",
              " 'ದ್ವೇಷವನ್ನು ಬಿಡುತ್ತಿದ್ದೇನೆ',\n",
              " 'ದ್ವೇಷಿಸುತ್ತಾರೆ',\n",
              " 'ದ್ವೇಷಿಸುತ್ತೇನೆ',\n",
              " 'ದ್ವೇಷಿಸುತ್ತೇನೆ.',\n",
              " 'ಧನ್ಯವಾದಗಳು',\n",
              " 'ಧನ್ಯವಾದಗಳು!',\n",
              " 'ನಂತರವೂ',\n",
              " 'ನಂಬರ್',\n",
              " 'ನಂಬಲು',\n",
              " 'ನಂಬಲು ಸಾಧ್ಯವಿಲ್ಲ',\n",
              " 'ನಂಬಲು ಸಾಧ್ಯವಿಲ್ಲ.',\n",
              " 'ನಕ್ಷತ್ರ',\n",
              " 'ನಗರದಲ್ಲಿ',\n",
              " 'ನಡವಳಿಕೆಯನ್ನು',\n",
              " 'ನಡೆಯುತ್ತಿದೆ',\n",
              " 'ನನಗಾಗಿ',\n",
              " 'ನನಗೂ',\n",
              " 'ನನ್ನಲ್ಲಿದೆ',\n",
              " 'ನನ್ನಿಂದ',\n",
              " 'ನನ್ನೊಂದಿಗೆ',\n",
              " 'ನನ್ನೊಂದಿಗೆ ಮಾತನಾಡುವುದಿಲ್ಲ',\n",
              " 'ನಮಗೆ',\n",
              " 'ನಮಸ್ಕಾರ!!',\n",
              " 'ನಮ್ಮನ್ನ',\n",
              " 'ನಮ್ಮನ್ನು',\n",
              " 'ನರಕ',\n",
              " 'ನಲ್ಲಿ',\n",
              " 'ನಾಯಕರು',\n",
              " 'ನಾಯಿ',\n",
              " 'ನಾಯಿಮರಿ',\n",
              " 'ನಾಯಿಯಂತೆ',\n",
              " 'ನಾಯಿಯನ್ನು',\n",
              " 'ನಾಲ್ಕು',\n",
              " 'ನಾಳೆ',\n",
              " 'ನಾಳೆ ಸೋಮವಾರ',\n",
              " 'ನಿಂದ',\n",
              " 'ನಿಖರವಾಗಿ',\n",
              " 'ನಿಜವಾಗಿಯೂ',\n",
              " 'ನಿಜವಾಗಿಯೂ ರುಚಿಕರವಾಗಿದೆ',\n",
              " 'ನಿಜವಾದ',\n",
              " 'ನಿದ್ದೆ',\n",
              " 'ನಿದ್ರೆ',\n",
              " 'ನಿಧನರಾದರು',\n",
              " 'ನಿನಗೆ',\n",
              " 'ನಿನ್ನ',\n",
              " 'ನಿನ್ನ ಬಳಿ',\n",
              " 'ನಿನ್ನನ್ನು',\n",
              " 'ನಿನ್ನನ್ನು ಚಪ್ಪಲಿಯಲ್ಲಿ',\n",
              " 'ನಿನ್ನೆ',\n",
              " 'ನಿನ್ನೆ ರಾತ್ರಿ',\n",
              " 'ನಿಮಗೆ',\n",
              " 'ನಿಮಗೆ ತಿಳಿದಿದೆ',\n",
              " 'ನಿಮಿಷ',\n",
              " 'ನಿಮಿಷ ಹಿಡಿಯುತ್ತಿದ್ದೇನೆ',\n",
              " 'ನಿಮಿಷ ಹಿಡಿಯುತ್ತಿದ್ದೇನೆ ದುರಾಸೆಯ',\n",
              " 'ನಿಮಿಷಗಳ',\n",
              " 'ನಿಮ್ಮನ್ನು',\n",
              " 'ನಿಮ್ಮನ್ನು ನೋಡಲು',\n",
              " 'ನಿಮ್ಮನ್ನು ಮಿಸ್',\n",
              " 'ನಿಮ್ಮಿಂದ',\n",
              " 'ನಿಮ್ಮೆಲ್ಲರನ್ನೂ',\n",
              " 'ನಿಮ್ಮೊಂದಿಗೆ',\n",
              " 'ನಿಮ್ಮೊಂದಿಗೆ ಮಾತನಾಡಲು',\n",
              " 'ನಿಯೋಜನೆಯನ್ನು',\n",
              " 'ನಿರಾಶಾದಾಯಕವಾಗಿತ್ತು',\n",
              " 'ನಿರಾಶೆಗೊಂಡಿದ್ದೇನೆ',\n",
              " 'ನಿರಾಸೆಗೊಳಿಸಿತು',\n",
              " 'ನಿರೀಕ್ಷಿಸಿರಲಿಲ್ಲ',\n",
              " 'ನಿಲ್ದಾಣವು',\n",
              " 'ನಿಲ್ದಾಣವು ಮನೆಯಿಂದ',\n",
              " 'ನಿಲ್ಲಿಸಲು',\n",
              " 'ನಿಲ್ಲಿಸಿ',\n",
              " 'ನಿಲ್ಲಿಸಿತು',\n",
              " 'ನಿಲ್ಲಿಸಿದೆ',\n",
              " 'ನಿಲ್ಲಿಸಿದೆ ಬಿಸಿಯಾಗಲು',\n",
              " 'ನಿಲ್ಲಿಸಿದೆ ಬಿಸಿಯಾಗಲು ಪ್ರಾರಂಭಿಸಿದೆ',\n",
              " 'ನೀವು',\n",
              " 'ನೀಡಿ',\n",
              " 'ನೀಡಿದರು',\n",
              " 'ನೀಡುವುದಿಲ್ಲ',\n",
              " 'ನೀನಾ',\n",
              " 'ನೀನು',\n",
              " 'ನೀನು ಹಾಗೆ',\n",
              " 'ನೀರಸವಾಗಿತ್ತು',\n",
              " 'ನೀರು',\n",
              " 'ನೀವೆಲ್ಲರೂ',\n",
              " 'ನೃತ್ಯ',\n",
              " 'ನೆಚ್ಚಿನ',\n",
              " 'ನೆನಪಿದೆ',\n",
              " 'ನೆನಪಿಲ್ಲ',\n",
              " 'ನೆನಪಿಸಿಕೊಳ್ಳುತ್ತೇನೆ',\n",
              " 'ನೆನಪುಗಳು',\n",
              " 'ನೆರೆಹೊರೆಯವರು',\n",
              " 'ನೇ',\n",
              " 'ನೇರವಾಗಿ',\n",
              " 'ನೋಂದಾಯಿಸಿದ್ದಕ್ಕಾಗಿ',\n",
              " 'ನೋಂದಾಯಿಸಿದ್ದಕ್ಕಾಗಿ ಧನ್ಯವಾದಗಳು',\n",
              " 'ನೋಡಬೇಕು',\n",
              " 'ನೋಡಲು',\n",
              " 'ನೋಡಲು ಬಯಸುತ್ತೇನೆ!',\n",
              " 'ನೋಡಿ!',\n",
              " 'ನೋಡಿದೆ',\n",
              " 'ನೋಡಿದೆ!',\n",
              " 'ನೋಡಿದೆ.',\n",
              " 'ನೋಡುತ್ತೇನೆ',\n",
              " 'ನೋಡುವುದು',\n",
              " 'ನೋಯುತ್ತಿರುವ',\n",
              " 'ನೋವಿನ',\n",
              " 'ನೋವಿನಲ್ಲಿದ್ದೇನೆ',\n",
              " 'ನೋವಿನಿಂದ',\n",
              " 'ನೋವು',\n",
              " 'ನೋವು ತಿಳಿದಿದೆ',\n",
              " 'ನ್ಯಾಯ',\n",
              " 'ನ್ಯಾಯ ಸಿಗಲಿಲ್ಲ',\n",
              " 'ಪಂದ್ಯದಲ್ಲಿ',\n",
              " 'ಪಂದ್ಯವನ್ನು',\n",
              " 'ಪಕ್ಕದಲ್ಲಿ',\n",
              " 'ಪಟ್ಟಿಯನ್ನು',\n",
              " 'ಪಡುತ್ತೇನೆ!',\n",
              " 'ಪಡೆದರು',\n",
              " 'ಪಡೆದಿದ್ದೇನೆ',\n",
              " 'ಪಡೆಯಬಹುದು',\n",
              " 'ಪಡೆಯಬೇಕು.',\n",
              " 'ಪಡೆಯಲು',\n",
              " 'ಪತಿ',\n",
              " 'ಪರವಾಗಿಲ್ಲ.',\n",
              " 'ಪರಿಗಣಿಸಲಾಗುತ್ತದೆ.',\n",
              " 'ಪರಿಗಣಿಸಲಿಲ್ಲ',\n",
              " 'ಪರೀಕ್ಷೆ',\n",
              " 'ಪರೀಕ್ಷೆಗೆ',\n",
              " 'ಪರೀಕ್ಷೆಯ',\n",
              " 'ಪರೀಕ್ಷೆಯಲ್ಲಿ',\n",
              " 'ಪರೀಕ್ಷೆಯಲ್ಲಿ ಉತ್ತೀರ್ಣರಾಗಲು',\n",
              " 'ಪಾಕವಿಧಾನವನ್ನು',\n",
              " 'ಪಾರ್ಟಿ',\n",
              " 'ಪಾರ್ಟಿಗೆ',\n",
              " 'ಪಾರ್ಟಿಗೆ ಹೋಗಲು',\n",
              " 'ಪಾರ್ಟಿಯಲ್ಲಿ',\n",
              " 'ಪಿಜ್ಜಾ',\n",
              " 'ಪಿಜ್ಜಾವನ್ನು',\n",
              " 'ಪುಸ್ತಕವನ್ನು',\n",
              " 'ಪುಸ್ತಕವನ್ನು ಹಿಂದಿರುಗಿಸಿದನು',\n",
              " 'ಪೂರ್ಣಗೊಳಿಸಲು',\n",
              " 'ಪೋಷಕರು',\n",
              " 'ಪೋಷಕರು ಅನುಭವಿಸುವ',\n",
              " 'ಪೋಷಕರು ಅನುಭವಿಸುವ ನೋವು',\n",
              " 'ಪೋಸ್ಟ್',\n",
              " 'ಪೋಸ್ಟ್ ಮಾಡಲು',\n",
              " 'ಪೋಸ್ಟ್ ಮಾಡಲು ನಿಮಿಷ',\n",
              " 'ಪೋಸ್ಟ್\\u200cಗಳನ್ನು',\n",
              " 'ಪೋಸ್ಟ್\\u200cಗಳನ್ನು ಓದುವಾಗ',\n",
              " 'ಪೋಸ್ಟ್\\u200cಗಳನ್ನು ಓದುವಾಗ ಸ್ವಾರ್ಥಿ',\n",
              " 'ಪ್ಯಾಕ್',\n",
              " 'ಪ್ರಕಾರ',\n",
              " 'ಪ್ರತಿ',\n",
              " 'ಪ್ರತಿದಿನ',\n",
              " 'ಪ್ರತಿದಿನ ಬೆಳಿಗ್ಗೆ',\n",
              " 'ಪ್ರದರ್ಶನ',\n",
              " 'ಪ್ರದರ್ಶನವನ್ನು',\n",
              " 'ಪ್ರಯತ್ನಿಸುತ್ತೇನೆ',\n",
              " 'ಪ್ರಯಾಣ',\n",
              " 'ಪ್ರಯಾಣ ಚೆನ್ನಾಗಿತ್ತು',\n",
              " 'ಪ್ರವಾಸವನ್ನು',\n",
              " 'ಪ್ರಸ್ತಾಪವನ್ನು',\n",
              " 'ಪ್ರಾಣ',\n",
              " 'ಪ್ರಾಣ ಕಳೆದುಕೊಂಡರು',\n",
              " 'ಪ್ರಾಣಿಗಳು',\n",
              " 'ಪ್ರಾರಂಭಿಸಿದಾಗ',\n",
              " 'ಪ್ರಾರಂಭಿಸಿದೆ',\n",
              " 'ಪ್ರಾರ್ಥನೆಗೆ',\n",
              " 'ಪ್ರಾರ್ಥನೆಯನ್ನು',\n",
              " 'ಪ್ರಾರ್ಥನೆಯನ್ನು ಕೇಳಲಿಲ್ಲ,',\n",
              " 'ಪ್ರೀತಿಸುತ್ತೇನೆ',\n",
              " 'ಪ್ರೀತಿಸಿ',\n",
              " 'ಪ್ರೀತಿಸುತ್ತೇನೆ',\n",
              " 'ಪ್ರೀತಿಸುತ್ತೇನೆ!',\n",
              " 'ಪ್ರೀತಿಸುತ್ತೇನೆ.',\n",
              " 'ಫಕ್',\n",
              " 'ಫಕ್ ಅಪ್',\n",
              " 'ಫಕ್ ಅಪ್ ಆಗಿದ್ದೇನೆ',\n",
              " 'ಫೋಟೋಗಳನ್ನು',\n",
              " 'ಫೋಟೋವನ್ನು',\n",
              " 'ಫೋನ್',\n",
              " 'ಫೋನ್ ಅನ್ನು',\n",
              " 'ಫ್ರೆಂಡ್',\n",
              " 'ಬಂದಿತು',\n",
              " 'ಬಡ',\n",
              " 'ಬದಲಿಗೆ',\n",
              " 'ಬನ್ನಿ',\n",
              " 'ಬನ್ನಿ,',\n",
              " 'ಬಯಸುತ್ತಾರೆ',\n",
              " 'ಬಯಸುತ್ತೇನೆ',\n",
              " 'ಬಯಸುತ್ತೇನೆ ...',\n",
              " 'ಬಯಸುತ್ತೇನೆ!',\n",
              " 'ಬಯಸುತ್ತೇನೆ.',\n",
              " 'ಬಯಸುವುದಿಲ್ಲ',\n",
              " 'ಬರಲು',\n",
              " 'ಬರುತ್ತದೆ',\n",
              " 'ಬರುತ್ತಿದ್ದಾರೆ',\n",
              " 'ಬರುತ್ತಿಲ್ಲ',\n",
              " 'ಬರೆಯುತ್ತಿದ್ದೇನೆ',\n",
              " 'ಬಳಲುತ್ತಿದ್ದೇನೆ',\n",
              " 'ಬಳಸಿ',\n",
              " 'ಬಳಿ',\n",
              " 'ಬಹಳ',\n",
              " 'ಬಹಳಷ್ಟು',\n",
              " 'ಬಹಳಷ್ಟು ಇದೆ.',\n",
              " 'ಬಹಳಷ್ಟು ಹಣವನ್ನು',\n",
              " 'ಬಹುತೇಕ',\n",
              " 'ಬಹುಶಃ',\n",
              " 'ಬಾಯಿ',\n",
              " 'ಬಾರಿ',\n",
              " 'ಬಾರಿಗೆ',\n",
              " 'ಬಾರಿಗೆ ಹಾರಲು',\n",
              " 'ಬಾರಿಗೆ ಹಾರಲು ಉತ್ಸುಕನಾಗಿದ್ದೇನೆ',\n",
              " 'ಬಾಸ್',\n",
              " 'ಬಿಚ್',\n",
              " 'ಬಿಚ್ ಭಾವಿಸುತ್ತೇನೆ',\n",
              " 'ಬಿಚ್ ಭಾವಿಸುತ್ತೇನೆ ಏಕೆಂದರೆ',\n",
              " 'ಬಿಟ್ಟು',\n",
              " 'ಬಿಡುತ್ತಿದ್ದೇನೆ',\n",
              " 'ಬಿಸಿ',\n",
              " 'ಬಿಸಿಯಾಗಲು',\n",
              " 'ಬಿಸಿಯಾಗಲು ಪ್ರಾರಂಭಿಸಿದೆ',\n",
              " 'ಬಿಸಿಲಿನ',\n",
              " 'ಬೀದಿ',\n",
              " 'ಬುಕ್',\n",
              " 'ಬುಕ್ ಆಗಿದೆ',\n",
              " 'ಬುಕ್ ಮಾಡಬಹುದಿತ್ತು',\n",
              " 'ಬುಕ್ ಮಾಡಬಹುದು',\n",
              " 'ಬುಕ್ ಮಾಡುವುದು',\n",
              " 'ಬುದ್ಧಿವಂತರು',\n",
              " 'ಬುಧವಾರ',\n",
              " 'ಬೆಂಕಿಯಲ್ಲಿ',\n",
              " 'ಬೆಂಗಳೂರಿನಲ್ಲಿ',\n",
              " 'ಬೆಂಗಳೂರು',\n",
              " 'ಬೆಕ್ಕನ್ನು',\n",
              " 'ಬೆಕ್ಕು',\n",
              " 'ಬೆಕ್ಕುಗಳನ್ನು',\n",
              " 'ಬೆಲೆ',\n",
              " 'ಬೆಳಗ್ಗೆ',\n",
              " 'ಬೆಳಿಗ್ಗೆ',\n",
              " 'ಬೆಳಿಗ್ಗೆ ತಿನ್ನುವುದಿಲ್ಲವಾದ್ದರಿಂದ',\n",
              " 'ಬೆಳಿಗ್ಗೆ ತಿನ್ನುವುದಿಲ್ಲವಾದ್ದರಿಂದ ಫಕ್',\n",
              " 'ಬೆಸ್ಟ್',\n",
              " 'ಬೆಸ್ಟ್!',\n",
              " 'ಬೇಕಾದ',\n",
              " 'ಬೇಕು',\n",
              " 'ಬೇಕು!!!',\n",
              " 'ಬೇಕು.',\n",
              " 'ಬೇಕು?',\n",
              " 'ಬೇಕೇ?',\n",
              " 'ಬೇಗ',\n",
              " 'ಬೇಗ ಮನೆಗೆ',\n",
              " 'ಬೇಗನೆ',\n",
              " 'ಬೇಸರದ',\n",
              " 'ಬೇಸರವಾಗುತ್ತಿದೆ',\n",
              " 'ಬೇಸಿಗೆ',\n",
              " 'ಬ್ಯಾಂಕ್',\n",
              " 'ಬ್ಯಾಲೆನ್ಸ್',\n",
              " 'ಬ್ಲಾಗ್',\n",
              " 'ಭಯಂಕರವಾಗಿ',\n",
              " 'ಭಯಾನಕ',\n",
              " 'ಭರವಸೆ',\n",
              " 'ಭಾಗವಹಿಸಿದ್ದೆ.',\n",
              " 'ಭಾರತ',\n",
              " 'ಭಾರತ ಕ್ರಿಕೆಟ್',\n",
              " 'ಭಾರತದ',\n",
              " 'ಭಾರತದಲ್ಲಿ',\n",
              " 'ಭಾರತದಲ್ಲಿ ಅತಿ',\n",
              " 'ಭಾವನೆ',\n",
              " 'ಭಾವನೆ ನನ್ನಲ್ಲಿದೆ',\n",
              " 'ಭಾವನೆಯನ್ನು',\n",
              " 'ಭಾವನೆಯನ್ನು ಹೊಂದಿದ್ದೇನೆ',\n",
              " 'ಭಾವನೆಯಿಂದ',\n",
              " 'ಭಾವಿಸಬಹುದು',\n",
              " 'ಭಾವಿಸುತ್ತೇನೆ',\n",
              " 'ಭಾವಿಸುತ್ತೇನೆ ಇತರರಿಗಾಗಿ',\n",
              " 'ಭಾವಿಸುತ್ತೇನೆ ಇತರರಿಗಾಗಿ ಪ್ರಾರ್ಥನೆಯನ್ನು',\n",
              " 'ಭಾವಿಸುತ್ತೇನೆ ಏಕೆಂದರೆ',\n",
              " 'ಭಾವಿಸುತ್ತೇನೆ ಏಕೆಂದರೆ ಹೇ',\n",
              " 'ಭಾವಿಸುತ್ತೇನೆ!',\n",
              " 'ಭಾವಿಸುತ್ತೇನೆ,',\n",
              " 'ಭಾವಿಸುತ್ತೇನೆ.',\n",
              " 'ಭಾವಿಸುತ್ತೇನೆ...',\n",
              " 'ಭಾವಿಸುವ',\n",
              " 'ಭಾವಿಸುವ ಯಾರ',\n",
              " 'ಭಾವಿಸುವ ಯಾರ ಮೇಲೂ',\n",
              " 'ಭೇಟಿ',\n",
              " 'ಭೇಟಿಯಾದೆ!',\n",
              " 'ಭೇಟಿಯಾದೆ.',\n",
              " 'ಮಕ್ಕಳನ್ನು',\n",
              " 'ಮಕ್ಕಳು',\n",
              " 'ಮಗ',\n",
              " 'ಮಗನಿಗೆ',\n",
              " 'ಮಗಳು',\n",
              " 'ಮಗು',\n",
              " 'ಮಗು ಹಿಂಸಾತ್ಮಕವಾದಾಗ',\n",
              " 'ಮಗು ಹಿಂಸಾತ್ಮಕವಾದಾಗ ಪೋಷಕರು',\n",
              " 'ಮಗು.',\n",
              " 'ಮಗುವನ್ನು',\n",
              " 'ಮಗುವಾಗಿದ್ದಾಗ',\n",
              " 'ಮತ್ತೊಂದು',\n",
              " 'ಮದುವೆಯಾಗಲು',\n",
              " 'ಮಧ್ಯಾಹ್ನ',\n",
              " 'ಮನಸ್ಥಿತಿ',\n",
              " 'ಮನಸ್ಥಿತಿ ವಿಚಿತ್ರವಾಗಿದೆ',\n",
              " 'ಮನಸ್ಥಿತಿ ವಿಚಿತ್ರವಾಗಿದೆ ಆದ್ದರಿಂದ',\n",
              " 'ಮನಸ್ಥಿತಿಯನ್ನು',\n",
              " 'ಮನಸ್ಥಿತಿಯನ್ನು ಹಾಳು',\n",
              " 'ಮನಸ್ಸಿನಲ್ಲಿ',\n",
              " 'ಮನಸ್ಸು',\n",
              " 'ಮನುಷ್ಯ',\n",
              " 'ಮನೆ',\n",
              " 'ಮನೆಗೆ',\n",
              " 'ಮನೆಗೆ ಹೋಗುವಾಗ',\n",
              " 'ಮನೆಯ',\n",
              " 'ಮನೆಯಲ್ಲಿ',\n",
              " 'ಮನೆಯಲ್ಲಿಯೇ',\n",
              " 'ಮನೆಯಿಂದ',\n",
              " 'ಮರಣದ',\n",
              " 'ಮರಣದ ಅವನು',\n",
              " 'ಮರಳಿ',\n",
              " 'ಮರೆತಿದ್ದೇನೆ',\n",
              " 'ಮರೆಯಬೇಡಿ!',\n",
              " 'ಮಲಗಲು',\n",
              " 'ಮಳೆ',\n",
              " 'ಮಳೆಯಾಗಿದೆ',\n",
              " 'ಮಸ್',\n",
              " 'ಮಹಾನ್',\n",
              " 'ಮಾಡದೆ',\n",
              " 'ಮಾಡದೆ ಏನನ್ನೂ',\n",
              " 'ಮಾಡದೆ ಏನನ್ನೂ ಹೇಳದೆ',\n",
              " 'ಮಾಡಬಹುದಿತ್ತು',\n",
              " 'ಮಾಡಬಹುದು',\n",
              " 'ಮಾಡಬಹುದು!',\n",
              " 'ಮಾಡಬೇಕು.',\n",
              " 'ಮಾಡಬೇಕೆಂದು',\n",
              " 'ಮಾಡಲಿಲ್ಲ',\n",
              " 'ಮಾಡಲು',\n",
              " 'ಮಾಡಲು ಅನಿಸುತ್ತಿಲ್ಲ',\n",
              " 'ಮಾಡಲು ನಿಮಿಷ',\n",
              " 'ಮಾಡಲು ನಿಮಿಷ ಹಿಡಿಯುತ್ತಿದ್ದೇನೆ',\n",
              " 'ಮಾಡಲು ಸಾಧ್ಯವಿಲ್ಲ',\n",
              " 'ಮಾಡಲು ಸಾಧ್ಯವಿಲ್ಲ.',\n",
              " 'ಮಾಡಿಕೊಳ್ಳುತ್ತೇನೆ!',\n",
              " 'ಮಾಡಿತು',\n",
              " 'ಮಾಡಿದನು',\n",
              " 'ಮಾಡಿದರು',\n",
              " 'ಮಾಡಿದರು.',\n",
              " 'ಮಾಡಿದಳು',\n",
              " 'ಮಾಡಿದೆ',\n",
              " 'ಮಾಡಿದೆ ಭಾವಿಸುವ',\n",
              " 'ಮಾಡಿದೆ ಭಾವಿಸುವ ಯಾರ',\n",
              " 'ಮಾಡಿದೆ,',\n",
              " 'ಮಾಡಿದೆವು',\n",
              " 'ಮಾಡಿದ್ದಕ್ಕಾಗಿ',\n",
              " 'ಮಾಡಿದ್ದಕ್ಕಾಗಿ ಧನ್ಯವಾದಗಳು',\n",
              " 'ಮಾಡಿದ್ದಾನೆ',\n",
              " 'ಮಾಡಿದ್ದೀರಾ?',\n",
              " 'ಮಾಡಿದ್ದೀರಿ',\n",
              " 'ಮಾಡಿದ್ದು',\n",
              " 'ಮಾಡಿದ್ದೇನೆ',\n",
              " 'ಮಾಡು',\n",
              " 'ಮಾಡುತ್ತದೆ',\n",
              " 'ಮಾಡುತ್ತಾನೆ',\n",
              " 'ಮಾಡುತ್ತಿದ್ದೀರಿ',\n",
              " 'ಮಾಡುತ್ತಿದ್ದೇನೆ.',\n",
              " 'ಮಾಡುತ್ತಿಲ್ಲ',\n",
              " 'ಮಾಡುತ್ತೀರಿ',\n",
              " 'ಮಾಡುತ್ತೇನೆ',\n",
              " 'ಮಾಡುವುದನ್ನು',\n",
              " 'ಮಾಡುವುದನ್ನು ನಿಲ್ಲಿಸಿತು',\n",
              " 'ಮಾಡುವುದರಲ್ಲಿ',\n",
              " 'ಮಾಡುವುದಿಲ್ಲ',\n",
              " 'ಮಾಡುವುದು',\n",
              " 'ಮಾತನಾಡಲು',\n",
              " 'ಮಾತನಾಡುವ',\n",
              " 'ಮಾತನಾಡುವುದಿಲ್ಲ',\n",
              " 'ಮಾತು',\n",
              " 'ಮಾರಾಟ',\n",
              " 'ಮಾರುಕಟ್ಟೆಗೆ',\n",
              " 'ಮಾರ್ನಿಂಗ್',\n",
              " 'ಮಿಸ್',\n",
              " 'ಮಿಸ್ ಮಾಡಿಕೊಳ್ಳುತ್ತೇನೆ!',\n",
              " 'ಮುಂಗೋಪದ',\n",
              " 'ಮುಂಚಿತವಾಗಿ',\n",
              " 'ಮುಂಬೈಗೆ',\n",
              " 'ಮುಖವನ್ನು',\n",
              " 'ಮುಖ್ಯ',\n",
              " 'ಮುಗಿಸಿದೆ!',\n",
              " 'ಮುಚ್ಚಿ',\n",
              " 'ಮುದ್ದಾದ',\n",
              " 'ಮುನ್ಸೂಚನೆ',\n",
              " 'ಮೂಗು',\n",
              " 'ಮೂರ್ಖ',\n",
              " 'ಮೆದುಳನ್ನು',\n",
              " 'ಮೇಲಿನ',\n",
              " 'ಮೇಲೂ',\n",
              " 'ಮೇಲೂ ಇರುವ',\n",
              " 'ಮೇಲೂ ಇರುವ ದ್ವೇಷವನ್ನು',\n",
              " 'ಮೊಬೈಲ್',\n",
              " 'ಮೋಜು',\n",
              " 'ಮೋಜು ಮಾಡಲಿಲ್ಲ',\n",
              " 'ಮೋಸ',\n",
              " 'ಮ್ಯಾನ್',\n",
              " 'ಯಮ್ಮಿ',\n",
              " ...]"
            ]
          },
          "metadata": {},
          "execution_count": 84
        }
      ],
      "source": [
        "vect.get_feature_names()  "
      ]
    },
    {
      "cell_type": "markdown",
      "id": "a84a43c7",
      "metadata": {
        "id": "a84a43c7"
      },
      "source": [
        "Getting a bag of words representation for all the documents:"
      ]
    },
    {
      "cell_type": "code",
      "execution_count": 85,
      "id": "bb19036c",
      "metadata": {
        "colab": {
          "base_uri": "https://localhost:8080/"
        },
        "id": "bb19036c",
        "outputId": "a4bd315c-feaf-4e47-b68b-c9f97e2f7a11"
      },
      "outputs": [
        {
          "output_type": "execute_result",
          "data": {
            "text/plain": [
              "<1571x1335 sparse matrix of type '<class 'numpy.int64'>'\n",
              "\twith 4830 stored elements in Compressed Sparse Row format>"
            ]
          },
          "metadata": {},
          "execution_count": 85
        }
      ],
      "source": [
        "X_train_vectorized = vect.transform(X_train)    \n",
        "X_train_vectorized"
      ]
    },
    {
      "cell_type": "code",
      "execution_count": 86,
      "id": "388da712",
      "metadata": {
        "colab": {
          "base_uri": "https://localhost:8080/"
        },
        "id": "388da712",
        "outputId": "92b302e8-a892-48f6-b992-4f35963c6f5e"
      },
      "outputs": [
        {
          "output_type": "execute_result",
          "data": {
            "text/plain": [
              "(1571, 1335)"
            ]
          },
          "metadata": {},
          "execution_count": 86
        }
      ],
      "source": [
        "X_train_vectorized.shape"
      ]
    },
    {
      "cell_type": "markdown",
      "id": "50c03780",
      "metadata": {
        "id": "50c03780"
      },
      "source": [
        "________________________________________________"
      ]
    },
    {
      "cell_type": "markdown",
      "id": "a00461db",
      "metadata": {
        "id": "a00461db"
      },
      "source": [
        "## Multinomial Logistic Regression"
      ]
    },
    {
      "cell_type": "code",
      "execution_count": 87,
      "id": "f5c31e5a",
      "metadata": {
        "colab": {
          "base_uri": "https://localhost:8080/"
        },
        "id": "f5c31e5a",
        "outputId": "7fa2b71d-81cb-4217-90ce-1e6c70de7421"
      },
      "outputs": [
        {
          "output_type": "execute_result",
          "data": {
            "text/plain": [
              "LogisticRegression(C=0.05, max_iter=10000, multi_class='multinomial',\n",
              "                   solver='newton-cg')"
            ]
          },
          "metadata": {},
          "execution_count": 87
        }
      ],
      "source": [
        "from sklearn.linear_model import LogisticRegression\n",
        "mlr = LogisticRegression(C=0.05, max_iter=10000, solver='newton-cg', multi_class='multinomial')\n",
        "mlr.fit(X_train_vectorized, y_train)"
      ]
    },
    {
      "cell_type": "code",
      "execution_count": 88,
      "id": "5f5251bb",
      "metadata": {
        "id": "5f5251bb"
      },
      "outputs": [],
      "source": [
        "from sklearn.metrics import accuracy_score\n",
        "X_test_transformed = vect.transform(X_test)\n",
        "y_pred_train = mlr.predict(X_train_vectorized)\n",
        "y_pred_test = mlr.predict(X_test_transformed)"
      ]
    },
    {
      "cell_type": "markdown",
      "id": "207738f7",
      "metadata": {
        "id": "207738f7"
      },
      "source": [
        "Train and Test Accuracies:"
      ]
    },
    {
      "cell_type": "code",
      "execution_count": 89,
      "id": "8fea51f6",
      "metadata": {
        "colab": {
          "base_uri": "https://localhost:8080/"
        },
        "id": "8fea51f6",
        "outputId": "50c4212b-eaf3-4763-c84e-7604f4d694a5"
      },
      "outputs": [
        {
          "output_type": "stream",
          "name": "stdout",
          "text": [
            "Train accuracy =  0.7428389560789306\n",
            "Test accuracy =  0.6903225806451613\n"
          ]
        }
      ],
      "source": [
        "print('Train accuracy = ', accuracy_score(y_train, y_pred_train))\n",
        "print('Test accuracy = ', accuracy_score(y_test, y_pred_test))"
      ]
    },
    {
      "cell_type": "markdown",
      "id": "0a52e6e9",
      "metadata": {
        "id": "0a52e6e9"
      },
      "source": [
        "Predicting sentences"
      ]
    },
    {
      "cell_type": "code",
      "execution_count": 90,
      "id": "53d1c4ae",
      "metadata": {
        "id": "53d1c4ae"
      },
      "outputs": [],
      "source": [
        "tweets = pd.DataFrame([\"ನೀವು ಯಾವುದೇ ಪ್ರಯೋಜನವಿಲ್ಲ\",#0angry\n",
        "                       \"ತುಂಬಾ ಒಳ್ಳೆಯದು\",#1happy\n",
        "                       \"ನನ್ನ ಖಾತೆಯಲ್ಲಿ ಎಷ್ಟು ಬ್ಯಾಲೆನ್ಸ್ ಇದೆ\",#2neutral\n",
        "                       \"ಕ್ಯಾಬ್ ಚಾಲಕ ನನ್ನನ್ನು ನಿಂದಿಸಿದ\",#3sad\n",
        "                       \"ನನ್ನ ನಾಯಿ ನಿನ್ನೆ ಸತ್ತುಹೋಯಿತು.\", #sad\n",
        "                       \"ನಾನು ಬಡ್ತಿ ಹೊಂದಲು ಸಂತೋಷಪಡುತ್ತೇನೆ\",#1happy\n",
        "                       \"ಮರುಪ್ರಾರಂಭಿಸಿದಾಗಲೂ ಆಗುತ್ತಿಲ್ಲ\",#3sad\n",
        "                       \"ನನ್ನ ಪರೀಕ್ಷೆಯಲ್ಲಿ ನಾನು ಉತ್ತಮ ಅಂಕಗಳನ್ನು ಗಳಿಸಿದೆ\",#1happy\n",
        "                       \"ಅವರು ನನ್ನನ್ನು ನಾಳೆ ಬರಲು ಹೇಳಿದರು\",#2neutral\n",
        "                       \"ಅವನು ನನ್ನನ್ನು ಗದರಿಸಿದನು\",#3sad\n",
        "                       \"ಸೇವೆಯು ಹತಾಶವಾಗಿತ್ತು\",#0angry\n",
        "                       \"ಇವತ್ತು ಮಂಗಳವಾರ\",\n",
        "                       \n",
        "       ])\n",
        "true_emo=[0,1,2,3,3,1,3,1,2,3,0,2]\n",
        "\n",
        "tweet_count = vect.transform(tweets[0])"
      ]
    },
    {
      "cell_type": "code",
      "execution_count": 91,
      "id": "03232923",
      "metadata": {
        "colab": {
          "base_uri": "https://localhost:8080/"
        },
        "id": "03232923",
        "outputId": "ca836b0d-b31b-4a5b-8280-6399e5b52a4c"
      },
      "outputs": [
        {
          "output_type": "stream",
          "name": "stdout",
          "text": [
            "[2 1 2 2 3 0 2 1 2 3 2 2]\n"
          ]
        }
      ],
      "source": [
        "tweet_pred = mlr.predict(tweet_count)\n",
        "print(tweet_pred)\n"
      ]
    },
    {
      "cell_type": "markdown",
      "id": "2S5SC2YzaiHN",
      "metadata": {
        "id": "2S5SC2YzaiHN"
      },
      "source": [
        "Comparing between actual emotions and predicted emotions"
      ]
    },
    {
      "cell_type": "code",
      "execution_count": 92,
      "id": "d1621a8d",
      "metadata": {
        "colab": {
          "base_uri": "https://localhost:8080/",
          "height": 426
        },
        "id": "d1621a8d",
        "outputId": "093f9219-65f0-474b-95dc-1e4e02c59dc9"
      },
      "outputs": [
        {
          "output_type": "execute_result",
          "data": {
            "text/plain": [
              "                                              text actual_emotion  \\\n",
              "0                         ನೀವು ಯಾವುದೇ ಪ್ರಯೋಜನವಿಲ್ಲ          Angry   \n",
              "1                                   ತುಂಬಾ ಒಳ್ಳೆಯದು          Happy   \n",
              "2              ನನ್ನ ಖಾತೆಯಲ್ಲಿ ಎಷ್ಟು ಬ್ಯಾಲೆನ್ಸ್ ಇದೆ        Neutral   \n",
              "3                    ಕ್ಯಾಬ್ ಚಾಲಕ ನನ್ನನ್ನು ನಿಂದಿಸಿದ            Sad   \n",
              "4                    ನನ್ನ ನಾಯಿ ನಿನ್ನೆ ಸತ್ತುಹೋಯಿತು.            Sad   \n",
              "5                 ನಾನು ಬಡ್ತಿ ಹೊಂದಲು ಸಂತೋಷಪಡುತ್ತೇನೆ          Happy   \n",
              "6                    ಮರುಪ್ರಾರಂಭಿಸಿದಾಗಲೂ ಆಗುತ್ತಿಲ್ಲ            Sad   \n",
              "7   ನನ್ನ ಪರೀಕ್ಷೆಯಲ್ಲಿ ನಾನು ಉತ್ತಮ ಅಂಕಗಳನ್ನು ಗಳಿಸಿದೆ          Happy   \n",
              "8                  ಅವರು ನನ್ನನ್ನು ನಾಳೆ ಬರಲು ಹೇಳಿದರು        Neutral   \n",
              "9                          ಅವನು ನನ್ನನ್ನು ಗದರಿಸಿದನು            Sad   \n",
              "10                             ಸೇವೆಯು ಹತಾಶವಾಗಿತ್ತು          Angry   \n",
              "11                                  ಇವತ್ತು ಮಂಗಳವಾರ        Neutral   \n",
              "\n",
              "   predicted_emotion  \n",
              "0            Neutral  \n",
              "1              Happy  \n",
              "2            Neutral  \n",
              "3            Neutral  \n",
              "4                Sad  \n",
              "5              Angry  \n",
              "6            Neutral  \n",
              "7              Happy  \n",
              "8            Neutral  \n",
              "9                Sad  \n",
              "10           Neutral  \n",
              "11           Neutral  "
            ],
            "text/html": [
              "\n",
              "  <div id=\"df-0b80b72a-cb32-4713-8828-c5db129e0d81\">\n",
              "    <div class=\"colab-df-container\">\n",
              "      <div>\n",
              "<style scoped>\n",
              "    .dataframe tbody tr th:only-of-type {\n",
              "        vertical-align: middle;\n",
              "    }\n",
              "\n",
              "    .dataframe tbody tr th {\n",
              "        vertical-align: top;\n",
              "    }\n",
              "\n",
              "    .dataframe thead th {\n",
              "        text-align: right;\n",
              "    }\n",
              "</style>\n",
              "<table border=\"1\" class=\"dataframe\">\n",
              "  <thead>\n",
              "    <tr style=\"text-align: right;\">\n",
              "      <th></th>\n",
              "      <th>text</th>\n",
              "      <th>actual_emotion</th>\n",
              "      <th>predicted_emotion</th>\n",
              "    </tr>\n",
              "  </thead>\n",
              "  <tbody>\n",
              "    <tr>\n",
              "      <th>0</th>\n",
              "      <td>ನೀವು ಯಾವುದೇ ಪ್ರಯೋಜನವಿಲ್ಲ</td>\n",
              "      <td>Angry</td>\n",
              "      <td>Neutral</td>\n",
              "    </tr>\n",
              "    <tr>\n",
              "      <th>1</th>\n",
              "      <td>ತುಂಬಾ ಒಳ್ಳೆಯದು</td>\n",
              "      <td>Happy</td>\n",
              "      <td>Happy</td>\n",
              "    </tr>\n",
              "    <tr>\n",
              "      <th>2</th>\n",
              "      <td>ನನ್ನ ಖಾತೆಯಲ್ಲಿ ಎಷ್ಟು ಬ್ಯಾಲೆನ್ಸ್ ಇದೆ</td>\n",
              "      <td>Neutral</td>\n",
              "      <td>Neutral</td>\n",
              "    </tr>\n",
              "    <tr>\n",
              "      <th>3</th>\n",
              "      <td>ಕ್ಯಾಬ್ ಚಾಲಕ ನನ್ನನ್ನು ನಿಂದಿಸಿದ</td>\n",
              "      <td>Sad</td>\n",
              "      <td>Neutral</td>\n",
              "    </tr>\n",
              "    <tr>\n",
              "      <th>4</th>\n",
              "      <td>ನನ್ನ ನಾಯಿ ನಿನ್ನೆ ಸತ್ತುಹೋಯಿತು.</td>\n",
              "      <td>Sad</td>\n",
              "      <td>Sad</td>\n",
              "    </tr>\n",
              "    <tr>\n",
              "      <th>5</th>\n",
              "      <td>ನಾನು ಬಡ್ತಿ ಹೊಂದಲು ಸಂತೋಷಪಡುತ್ತೇನೆ</td>\n",
              "      <td>Happy</td>\n",
              "      <td>Angry</td>\n",
              "    </tr>\n",
              "    <tr>\n",
              "      <th>6</th>\n",
              "      <td>ಮರುಪ್ರಾರಂಭಿಸಿದಾಗಲೂ ಆಗುತ್ತಿಲ್ಲ</td>\n",
              "      <td>Sad</td>\n",
              "      <td>Neutral</td>\n",
              "    </tr>\n",
              "    <tr>\n",
              "      <th>7</th>\n",
              "      <td>ನನ್ನ ಪರೀಕ್ಷೆಯಲ್ಲಿ ನಾನು ಉತ್ತಮ ಅಂಕಗಳನ್ನು ಗಳಿಸಿದೆ</td>\n",
              "      <td>Happy</td>\n",
              "      <td>Happy</td>\n",
              "    </tr>\n",
              "    <tr>\n",
              "      <th>8</th>\n",
              "      <td>ಅವರು ನನ್ನನ್ನು ನಾಳೆ ಬರಲು ಹೇಳಿದರು</td>\n",
              "      <td>Neutral</td>\n",
              "      <td>Neutral</td>\n",
              "    </tr>\n",
              "    <tr>\n",
              "      <th>9</th>\n",
              "      <td>ಅವನು ನನ್ನನ್ನು ಗದರಿಸಿದನು</td>\n",
              "      <td>Sad</td>\n",
              "      <td>Sad</td>\n",
              "    </tr>\n",
              "    <tr>\n",
              "      <th>10</th>\n",
              "      <td>ಸೇವೆಯು ಹತಾಶವಾಗಿತ್ತು</td>\n",
              "      <td>Angry</td>\n",
              "      <td>Neutral</td>\n",
              "    </tr>\n",
              "    <tr>\n",
              "      <th>11</th>\n",
              "      <td>ಇವತ್ತು ಮಂಗಳವಾರ</td>\n",
              "      <td>Neutral</td>\n",
              "      <td>Neutral</td>\n",
              "    </tr>\n",
              "  </tbody>\n",
              "</table>\n",
              "</div>\n",
              "      <button class=\"colab-df-convert\" onclick=\"convertToInteractive('df-0b80b72a-cb32-4713-8828-c5db129e0d81')\"\n",
              "              title=\"Convert this dataframe to an interactive table.\"\n",
              "              style=\"display:none;\">\n",
              "        \n",
              "  <svg xmlns=\"http://www.w3.org/2000/svg\" height=\"24px\"viewBox=\"0 0 24 24\"\n",
              "       width=\"24px\">\n",
              "    <path d=\"M0 0h24v24H0V0z\" fill=\"none\"/>\n",
              "    <path d=\"M18.56 5.44l.94 2.06.94-2.06 2.06-.94-2.06-.94-.94-2.06-.94 2.06-2.06.94zm-11 1L8.5 8.5l.94-2.06 2.06-.94-2.06-.94L8.5 2.5l-.94 2.06-2.06.94zm10 10l.94 2.06.94-2.06 2.06-.94-2.06-.94-.94-2.06-.94 2.06-2.06.94z\"/><path d=\"M17.41 7.96l-1.37-1.37c-.4-.4-.92-.59-1.43-.59-.52 0-1.04.2-1.43.59L10.3 9.45l-7.72 7.72c-.78.78-.78 2.05 0 2.83L4 21.41c.39.39.9.59 1.41.59.51 0 1.02-.2 1.41-.59l7.78-7.78 2.81-2.81c.8-.78.8-2.07 0-2.86zM5.41 20L4 18.59l7.72-7.72 1.47 1.35L5.41 20z\"/>\n",
              "  </svg>\n",
              "      </button>\n",
              "      \n",
              "  <style>\n",
              "    .colab-df-container {\n",
              "      display:flex;\n",
              "      flex-wrap:wrap;\n",
              "      gap: 12px;\n",
              "    }\n",
              "\n",
              "    .colab-df-convert {\n",
              "      background-color: #E8F0FE;\n",
              "      border: none;\n",
              "      border-radius: 50%;\n",
              "      cursor: pointer;\n",
              "      display: none;\n",
              "      fill: #1967D2;\n",
              "      height: 32px;\n",
              "      padding: 0 0 0 0;\n",
              "      width: 32px;\n",
              "    }\n",
              "\n",
              "    .colab-df-convert:hover {\n",
              "      background-color: #E2EBFA;\n",
              "      box-shadow: 0px 1px 2px rgba(60, 64, 67, 0.3), 0px 1px 3px 1px rgba(60, 64, 67, 0.15);\n",
              "      fill: #174EA6;\n",
              "    }\n",
              "\n",
              "    [theme=dark] .colab-df-convert {\n",
              "      background-color: #3B4455;\n",
              "      fill: #D2E3FC;\n",
              "    }\n",
              "\n",
              "    [theme=dark] .colab-df-convert:hover {\n",
              "      background-color: #434B5C;\n",
              "      box-shadow: 0px 1px 3px 1px rgba(0, 0, 0, 0.15);\n",
              "      filter: drop-shadow(0px 1px 2px rgba(0, 0, 0, 0.3));\n",
              "      fill: #FFFFFF;\n",
              "    }\n",
              "  </style>\n",
              "\n",
              "      <script>\n",
              "        const buttonEl =\n",
              "          document.querySelector('#df-0b80b72a-cb32-4713-8828-c5db129e0d81 button.colab-df-convert');\n",
              "        buttonEl.style.display =\n",
              "          google.colab.kernel.accessAllowed ? 'block' : 'none';\n",
              "\n",
              "        async function convertToInteractive(key) {\n",
              "          const element = document.querySelector('#df-0b80b72a-cb32-4713-8828-c5db129e0d81');\n",
              "          const dataTable =\n",
              "            await google.colab.kernel.invokeFunction('convertToInteractive',\n",
              "                                                     [key], {});\n",
              "          if (!dataTable) return;\n",
              "\n",
              "          const docLinkHtml = 'Like what you see? Visit the ' +\n",
              "            '<a target=\"_blank\" href=https://colab.research.google.com/notebooks/data_table.ipynb>data table notebook</a>'\n",
              "            + ' to learn more about interactive tables.';\n",
              "          element.innerHTML = '';\n",
              "          dataTable['output_type'] = 'display_data';\n",
              "          await google.colab.output.renderOutput(dataTable, element);\n",
              "          const docLink = document.createElement('div');\n",
              "          docLink.innerHTML = docLinkHtml;\n",
              "          element.appendChild(docLink);\n",
              "        }\n",
              "      </script>\n",
              "    </div>\n",
              "  </div>\n",
              "  "
            ]
          },
          "metadata": {},
          "execution_count": 92
        }
      ],
      "source": [
        "final_result=tweets.copy()\n",
        "final_result['true_emotion']=true_emo\n",
        "final_result['result']=tweet_pred\n",
        "final_result=final_result.rename(columns={0:\"text\"})\n",
        "\n",
        "final_result=final_result.rename(columns={\"result\":\"predicted_emotion\"})\n",
        "final_result=final_result.rename(columns={\"true_emotion\":\"actual_emotion\"})\n",
        "final_result=final_result.replace({0: 'Angry', 1: 'Happy', 2: 'Neutral', 3: 'Sad'})\n",
        "final_result"
      ]
    },
    {
      "cell_type": "markdown",
      "id": "Gd_9mlaoarW0",
      "metadata": {
        "id": "Gd_9mlaoarW0"
      },
      "source": [
        "Sample Dataset Accuracy"
      ]
    },
    {
      "cell_type": "code",
      "execution_count": 93,
      "id": "d1047480",
      "metadata": {
        "colab": {
          "base_uri": "https://localhost:8080/"
        },
        "id": "d1047480",
        "outputId": "10ee4d35-9078-4d7f-e64c-42705e81771a"
      },
      "outputs": [
        {
          "output_type": "stream",
          "name": "stdout",
          "text": [
            "Accuracy obtained in sample dataset:  0.5833333333333334\n"
          ]
        }
      ],
      "source": [
        "c=0\n",
        "for i in range(len(final_result['text'])):\n",
        "    if final_result['predicted_emotion'][i]==final_result['actual_emotion'][i]:\n",
        "        c+=1\n",
        "print(\"Accuracy obtained in sample dataset: \",c/len(final_result['text']))"
      ]
    },
    {
      "cell_type": "markdown",
      "id": "a8ca1585",
      "metadata": {
        "id": "a8ca1585"
      },
      "source": [
        "F1 Score of MLR model:"
      ]
    },
    {
      "cell_type": "code",
      "execution_count": 94,
      "id": "0384125a",
      "metadata": {
        "colab": {
          "base_uri": "https://localhost:8080/"
        },
        "id": "0384125a",
        "outputId": "360170ba-20de-419d-d30d-1cdd046dadcc"
      },
      "outputs": [
        {
          "output_type": "stream",
          "name": "stdout",
          "text": [
            "F1 score: 0.690939393601063\n"
          ]
        }
      ],
      "source": [
        "from sklearn.metrics import f1_score\n",
        "print('F1 score:', f1_score(y_test, y_pred_test, average=\"macro\"))"
      ]
    },
    {
      "cell_type": "code",
      "execution_count": 95,
      "id": "4e136dd5",
      "metadata": {
        "id": "4e136dd5"
      },
      "outputs": [],
      "source": [
        "from sklearn.metrics import classification_report"
      ]
    },
    {
      "cell_type": "markdown",
      "id": "74856dbc",
      "metadata": {
        "id": "74856dbc"
      },
      "source": [
        "Classification report of MLR model:"
      ]
    },
    {
      "cell_type": "code",
      "execution_count": 96,
      "id": "31276e01",
      "metadata": {
        "colab": {
          "base_uri": "https://localhost:8080/"
        },
        "id": "31276e01",
        "outputId": "ff6f2914-f8c9-4a1b-f269-60ed4b71935f"
      },
      "outputs": [
        {
          "output_type": "stream",
          "name": "stdout",
          "text": [
            "              precision    recall  f1-score   support\n",
            "\n",
            "           0       0.79      0.61      0.69        74\n",
            "           1       0.72      0.62      0.66        78\n",
            "           2       0.56      0.89      0.69        83\n",
            "           3       0.85      0.63      0.72        75\n",
            "\n",
            "    accuracy                           0.69       310\n",
            "   macro avg       0.73      0.69      0.69       310\n",
            "weighted avg       0.73      0.69      0.69       310\n",
            "\n"
          ]
        }
      ],
      "source": [
        "print(classification_report(y_test, y_pred_test))"
      ]
    },
    {
      "cell_type": "markdown",
      "id": "c8c2874d",
      "metadata": {
        "id": "c8c2874d"
      },
      "source": [
        "Saving MLR model to disk:"
      ]
    },
    {
      "cell_type": "code",
      "execution_count": 97,
      "id": "9ae1f43a",
      "metadata": {
        "id": "9ae1f43a"
      },
      "outputs": [],
      "source": [
        "pickle.dump(mlr, open('mlr_model.sav', 'wb'))"
      ]
    },
    {
      "cell_type": "markdown",
      "id": "afce4f58",
      "metadata": {
        "id": "afce4f58"
      },
      "source": [
        "__________________________________________________________________________________________\n"
      ]
    },
    {
      "cell_type": "markdown",
      "id": "4b4abee3",
      "metadata": {
        "id": "4b4abee3"
      },
      "source": [
        "## Decision Tree Classifier"
      ]
    },
    {
      "cell_type": "code",
      "execution_count": 98,
      "id": "AYXDsdoy7mi3",
      "metadata": {
        "colab": {
          "base_uri": "https://localhost:8080/"
        },
        "id": "AYXDsdoy7mi3",
        "outputId": "1d3b0c37-101a-48af-ce66-70c11a7e1eb7"
      },
      "outputs": [
        {
          "output_type": "execute_result",
          "data": {
            "text/plain": [
              "DecisionTreeClassifier()"
            ]
          },
          "metadata": {},
          "execution_count": 98
        }
      ],
      "source": [
        "from sklearn import tree\n",
        "# Decision tree fit\n",
        "dt = tree.DecisionTreeClassifier()\n",
        "dt.fit(X_train_vectorized, y_train)\n"
      ]
    },
    {
      "cell_type": "code",
      "execution_count": 99,
      "id": "F8cRA9Do9WaP",
      "metadata": {
        "id": "F8cRA9Do9WaP"
      },
      "outputs": [],
      "source": [
        "#calculating score\n",
        "X_test_transformed = vect.transform(X_test)\n",
        "y_dt_train = dt.predict(X_train_vectorized)\n",
        "y_dt_test = dt.predict(X_test_transformed)\n"
      ]
    },
    {
      "cell_type": "markdown",
      "id": "14b576b5",
      "metadata": {
        "id": "14b576b5"
      },
      "source": [
        "Train and Test Acccuracies:"
      ]
    },
    {
      "cell_type": "code",
      "execution_count": 100,
      "id": "93ae3ca7",
      "metadata": {
        "colab": {
          "base_uri": "https://localhost:8080/"
        },
        "id": "93ae3ca7",
        "outputId": "50372e9e-a7ae-4cd1-ca91-4d1c450a6b23"
      },
      "outputs": [
        {
          "output_type": "stream",
          "name": "stdout",
          "text": [
            "Train accuracy =  0.9140674729471674\n",
            "Test accuracy =  0.8161290322580645\n"
          ]
        }
      ],
      "source": [
        "print('Train accuracy = ', accuracy_score(y_train, y_dt_train))\n",
        "print('Test accuracy = ', accuracy_score(y_test, y_dt_test))"
      ]
    },
    {
      "cell_type": "markdown",
      "id": "d652995e",
      "metadata": {
        "id": "d652995e"
      },
      "source": [
        "Predicting sentences:"
      ]
    },
    {
      "cell_type": "code",
      "execution_count": 101,
      "id": "rb0C6pkl9qAa",
      "metadata": {
        "colab": {
          "base_uri": "https://localhost:8080/"
        },
        "id": "rb0C6pkl9qAa",
        "outputId": "f099c249-a632-4c96-edbd-903cf63de169"
      },
      "outputs": [
        {
          "output_type": "stream",
          "name": "stdout",
          "text": [
            "[2 1 2 1 3 2 2 2 2 3 2 2]\n"
          ]
        },
        {
          "output_type": "execute_result",
          "data": {
            "text/plain": [
              "0                           ನೀವು ಯಾವುದೇ ಪ್ರಯೋಜನವಿಲ್ಲ\n",
              "1                                     ತುಂಬಾ ಒಳ್ಳೆಯದು\n",
              "2                ನನ್ನ ಖಾತೆಯಲ್ಲಿ ಎಷ್ಟು ಬ್ಯಾಲೆನ್ಸ್ ಇದೆ\n",
              "3                      ಕ್ಯಾಬ್ ಚಾಲಕ ನನ್ನನ್ನು ನಿಂದಿಸಿದ\n",
              "4                      ನನ್ನ ನಾಯಿ ನಿನ್ನೆ ಸತ್ತುಹೋಯಿತು.\n",
              "5                   ನಾನು ಬಡ್ತಿ ಹೊಂದಲು ಸಂತೋಷಪಡುತ್ತೇನೆ\n",
              "6                      ಮರುಪ್ರಾರಂಭಿಸಿದಾಗಲೂ ಆಗುತ್ತಿಲ್ಲ\n",
              "7     ನನ್ನ ಪರೀಕ್ಷೆಯಲ್ಲಿ ನಾನು ಉತ್ತಮ ಅಂಕಗಳನ್ನು ಗಳಿಸಿದೆ\n",
              "8                    ಅವರು ನನ್ನನ್ನು ನಾಳೆ ಬರಲು ಹೇಳಿದರು\n",
              "9                            ಅವನು ನನ್ನನ್ನು ಗದರಿಸಿದನು\n",
              "10                               ಸೇವೆಯು ಹತಾಶವಾಗಿತ್ತು\n",
              "11                                    ಇವತ್ತು ಮಂಗಳವಾರ\n",
              "Name: 0, dtype: object"
            ]
          },
          "metadata": {},
          "execution_count": 101
        }
      ],
      "source": [
        "#Predicting the emotion of the tweet by dt\n",
        "tweet_pred = dt.predict(tweet_count)\n",
        "print(tweet_pred)\n",
        "tweets[0]"
      ]
    },
    {
      "cell_type": "markdown",
      "id": "fU4f8sT3bI-j",
      "metadata": {
        "id": "fU4f8sT3bI-j"
      },
      "source": [
        "Comparing between actual emotions and predicted emotions"
      ]
    },
    {
      "cell_type": "code",
      "execution_count": 102,
      "id": "70Ixi_nz-f04",
      "metadata": {
        "colab": {
          "base_uri": "https://localhost:8080/",
          "height": 426
        },
        "id": "70Ixi_nz-f04",
        "outputId": "9c622c2d-9290-49b4-9daf-228063042005"
      },
      "outputs": [
        {
          "output_type": "execute_result",
          "data": {
            "text/plain": [
              "                                              text actual_emotion  \\\n",
              "0                         ನೀವು ಯಾವುದೇ ಪ್ರಯೋಜನವಿಲ್ಲ          Angry   \n",
              "1                                   ತುಂಬಾ ಒಳ್ಳೆಯದು          Happy   \n",
              "2              ನನ್ನ ಖಾತೆಯಲ್ಲಿ ಎಷ್ಟು ಬ್ಯಾಲೆನ್ಸ್ ಇದೆ        Neutral   \n",
              "3                    ಕ್ಯಾಬ್ ಚಾಲಕ ನನ್ನನ್ನು ನಿಂದಿಸಿದ            Sad   \n",
              "4                    ನನ್ನ ನಾಯಿ ನಿನ್ನೆ ಸತ್ತುಹೋಯಿತು.            Sad   \n",
              "5                 ನಾನು ಬಡ್ತಿ ಹೊಂದಲು ಸಂತೋಷಪಡುತ್ತೇನೆ          Happy   \n",
              "6                    ಮರುಪ್ರಾರಂಭಿಸಿದಾಗಲೂ ಆಗುತ್ತಿಲ್ಲ            Sad   \n",
              "7   ನನ್ನ ಪರೀಕ್ಷೆಯಲ್ಲಿ ನಾನು ಉತ್ತಮ ಅಂಕಗಳನ್ನು ಗಳಿಸಿದೆ          Happy   \n",
              "8                  ಅವರು ನನ್ನನ್ನು ನಾಳೆ ಬರಲು ಹೇಳಿದರು        Neutral   \n",
              "9                          ಅವನು ನನ್ನನ್ನು ಗದರಿಸಿದನು            Sad   \n",
              "10                             ಸೇವೆಯು ಹತಾಶವಾಗಿತ್ತು          Angry   \n",
              "11                                  ಇವತ್ತು ಮಂಗಳವಾರ        Neutral   \n",
              "\n",
              "   predicted_emotion  \n",
              "0            Neutral  \n",
              "1              Happy  \n",
              "2            Neutral  \n",
              "3              Happy  \n",
              "4                Sad  \n",
              "5            Neutral  \n",
              "6            Neutral  \n",
              "7            Neutral  \n",
              "8            Neutral  \n",
              "9                Sad  \n",
              "10           Neutral  \n",
              "11           Neutral  "
            ],
            "text/html": [
              "\n",
              "  <div id=\"df-c42f5947-5e0b-45cd-97c1-5e65fcc4a4cc\">\n",
              "    <div class=\"colab-df-container\">\n",
              "      <div>\n",
              "<style scoped>\n",
              "    .dataframe tbody tr th:only-of-type {\n",
              "        vertical-align: middle;\n",
              "    }\n",
              "\n",
              "    .dataframe tbody tr th {\n",
              "        vertical-align: top;\n",
              "    }\n",
              "\n",
              "    .dataframe thead th {\n",
              "        text-align: right;\n",
              "    }\n",
              "</style>\n",
              "<table border=\"1\" class=\"dataframe\">\n",
              "  <thead>\n",
              "    <tr style=\"text-align: right;\">\n",
              "      <th></th>\n",
              "      <th>text</th>\n",
              "      <th>actual_emotion</th>\n",
              "      <th>predicted_emotion</th>\n",
              "    </tr>\n",
              "  </thead>\n",
              "  <tbody>\n",
              "    <tr>\n",
              "      <th>0</th>\n",
              "      <td>ನೀವು ಯಾವುದೇ ಪ್ರಯೋಜನವಿಲ್ಲ</td>\n",
              "      <td>Angry</td>\n",
              "      <td>Neutral</td>\n",
              "    </tr>\n",
              "    <tr>\n",
              "      <th>1</th>\n",
              "      <td>ತುಂಬಾ ಒಳ್ಳೆಯದು</td>\n",
              "      <td>Happy</td>\n",
              "      <td>Happy</td>\n",
              "    </tr>\n",
              "    <tr>\n",
              "      <th>2</th>\n",
              "      <td>ನನ್ನ ಖಾತೆಯಲ್ಲಿ ಎಷ್ಟು ಬ್ಯಾಲೆನ್ಸ್ ಇದೆ</td>\n",
              "      <td>Neutral</td>\n",
              "      <td>Neutral</td>\n",
              "    </tr>\n",
              "    <tr>\n",
              "      <th>3</th>\n",
              "      <td>ಕ್ಯಾಬ್ ಚಾಲಕ ನನ್ನನ್ನು ನಿಂದಿಸಿದ</td>\n",
              "      <td>Sad</td>\n",
              "      <td>Happy</td>\n",
              "    </tr>\n",
              "    <tr>\n",
              "      <th>4</th>\n",
              "      <td>ನನ್ನ ನಾಯಿ ನಿನ್ನೆ ಸತ್ತುಹೋಯಿತು.</td>\n",
              "      <td>Sad</td>\n",
              "      <td>Sad</td>\n",
              "    </tr>\n",
              "    <tr>\n",
              "      <th>5</th>\n",
              "      <td>ನಾನು ಬಡ್ತಿ ಹೊಂದಲು ಸಂತೋಷಪಡುತ್ತೇನೆ</td>\n",
              "      <td>Happy</td>\n",
              "      <td>Neutral</td>\n",
              "    </tr>\n",
              "    <tr>\n",
              "      <th>6</th>\n",
              "      <td>ಮರುಪ್ರಾರಂಭಿಸಿದಾಗಲೂ ಆಗುತ್ತಿಲ್ಲ</td>\n",
              "      <td>Sad</td>\n",
              "      <td>Neutral</td>\n",
              "    </tr>\n",
              "    <tr>\n",
              "      <th>7</th>\n",
              "      <td>ನನ್ನ ಪರೀಕ್ಷೆಯಲ್ಲಿ ನಾನು ಉತ್ತಮ ಅಂಕಗಳನ್ನು ಗಳಿಸಿದೆ</td>\n",
              "      <td>Happy</td>\n",
              "      <td>Neutral</td>\n",
              "    </tr>\n",
              "    <tr>\n",
              "      <th>8</th>\n",
              "      <td>ಅವರು ನನ್ನನ್ನು ನಾಳೆ ಬರಲು ಹೇಳಿದರು</td>\n",
              "      <td>Neutral</td>\n",
              "      <td>Neutral</td>\n",
              "    </tr>\n",
              "    <tr>\n",
              "      <th>9</th>\n",
              "      <td>ಅವನು ನನ್ನನ್ನು ಗದರಿಸಿದನು</td>\n",
              "      <td>Sad</td>\n",
              "      <td>Sad</td>\n",
              "    </tr>\n",
              "    <tr>\n",
              "      <th>10</th>\n",
              "      <td>ಸೇವೆಯು ಹತಾಶವಾಗಿತ್ತು</td>\n",
              "      <td>Angry</td>\n",
              "      <td>Neutral</td>\n",
              "    </tr>\n",
              "    <tr>\n",
              "      <th>11</th>\n",
              "      <td>ಇವತ್ತು ಮಂಗಳವಾರ</td>\n",
              "      <td>Neutral</td>\n",
              "      <td>Neutral</td>\n",
              "    </tr>\n",
              "  </tbody>\n",
              "</table>\n",
              "</div>\n",
              "      <button class=\"colab-df-convert\" onclick=\"convertToInteractive('df-c42f5947-5e0b-45cd-97c1-5e65fcc4a4cc')\"\n",
              "              title=\"Convert this dataframe to an interactive table.\"\n",
              "              style=\"display:none;\">\n",
              "        \n",
              "  <svg xmlns=\"http://www.w3.org/2000/svg\" height=\"24px\"viewBox=\"0 0 24 24\"\n",
              "       width=\"24px\">\n",
              "    <path d=\"M0 0h24v24H0V0z\" fill=\"none\"/>\n",
              "    <path d=\"M18.56 5.44l.94 2.06.94-2.06 2.06-.94-2.06-.94-.94-2.06-.94 2.06-2.06.94zm-11 1L8.5 8.5l.94-2.06 2.06-.94-2.06-.94L8.5 2.5l-.94 2.06-2.06.94zm10 10l.94 2.06.94-2.06 2.06-.94-2.06-.94-.94-2.06-.94 2.06-2.06.94z\"/><path d=\"M17.41 7.96l-1.37-1.37c-.4-.4-.92-.59-1.43-.59-.52 0-1.04.2-1.43.59L10.3 9.45l-7.72 7.72c-.78.78-.78 2.05 0 2.83L4 21.41c.39.39.9.59 1.41.59.51 0 1.02-.2 1.41-.59l7.78-7.78 2.81-2.81c.8-.78.8-2.07 0-2.86zM5.41 20L4 18.59l7.72-7.72 1.47 1.35L5.41 20z\"/>\n",
              "  </svg>\n",
              "      </button>\n",
              "      \n",
              "  <style>\n",
              "    .colab-df-container {\n",
              "      display:flex;\n",
              "      flex-wrap:wrap;\n",
              "      gap: 12px;\n",
              "    }\n",
              "\n",
              "    .colab-df-convert {\n",
              "      background-color: #E8F0FE;\n",
              "      border: none;\n",
              "      border-radius: 50%;\n",
              "      cursor: pointer;\n",
              "      display: none;\n",
              "      fill: #1967D2;\n",
              "      height: 32px;\n",
              "      padding: 0 0 0 0;\n",
              "      width: 32px;\n",
              "    }\n",
              "\n",
              "    .colab-df-convert:hover {\n",
              "      background-color: #E2EBFA;\n",
              "      box-shadow: 0px 1px 2px rgba(60, 64, 67, 0.3), 0px 1px 3px 1px rgba(60, 64, 67, 0.15);\n",
              "      fill: #174EA6;\n",
              "    }\n",
              "\n",
              "    [theme=dark] .colab-df-convert {\n",
              "      background-color: #3B4455;\n",
              "      fill: #D2E3FC;\n",
              "    }\n",
              "\n",
              "    [theme=dark] .colab-df-convert:hover {\n",
              "      background-color: #434B5C;\n",
              "      box-shadow: 0px 1px 3px 1px rgba(0, 0, 0, 0.15);\n",
              "      filter: drop-shadow(0px 1px 2px rgba(0, 0, 0, 0.3));\n",
              "      fill: #FFFFFF;\n",
              "    }\n",
              "  </style>\n",
              "\n",
              "      <script>\n",
              "        const buttonEl =\n",
              "          document.querySelector('#df-c42f5947-5e0b-45cd-97c1-5e65fcc4a4cc button.colab-df-convert');\n",
              "        buttonEl.style.display =\n",
              "          google.colab.kernel.accessAllowed ? 'block' : 'none';\n",
              "\n",
              "        async function convertToInteractive(key) {\n",
              "          const element = document.querySelector('#df-c42f5947-5e0b-45cd-97c1-5e65fcc4a4cc');\n",
              "          const dataTable =\n",
              "            await google.colab.kernel.invokeFunction('convertToInteractive',\n",
              "                                                     [key], {});\n",
              "          if (!dataTable) return;\n",
              "\n",
              "          const docLinkHtml = 'Like what you see? Visit the ' +\n",
              "            '<a target=\"_blank\" href=https://colab.research.google.com/notebooks/data_table.ipynb>data table notebook</a>'\n",
              "            + ' to learn more about interactive tables.';\n",
              "          element.innerHTML = '';\n",
              "          dataTable['output_type'] = 'display_data';\n",
              "          await google.colab.output.renderOutput(dataTable, element);\n",
              "          const docLink = document.createElement('div');\n",
              "          docLink.innerHTML = docLinkHtml;\n",
              "          element.appendChild(docLink);\n",
              "        }\n",
              "      </script>\n",
              "    </div>\n",
              "  </div>\n",
              "  "
            ]
          },
          "metadata": {},
          "execution_count": 102
        }
      ],
      "source": [
        "final_result_dt=tweets.copy()\n",
        "final_result_dt['true_emotion']=true_emo\n",
        "final_result_dt['result']=tweet_pred\n",
        "final_result_dt=final_result_dt.rename(columns={0:\"text\"})\n",
        "final_result_dt=final_result_dt.rename(columns={\"result\":\"predicted_emotion\"})\n",
        "final_result_dt=final_result_dt.rename(columns={\"true_emotion\":\"actual_emotion\"})\n",
        "final_result_dt=final_result_dt.replace({0: 'Angry', 1: 'Happy', 2: 'Neutral', 3: 'Sad'})\n",
        "final_result_dt\n"
      ]
    },
    {
      "cell_type": "markdown",
      "id": "1ovqKYeMbM5D",
      "metadata": {
        "id": "1ovqKYeMbM5D"
      },
      "source": [
        "Sample Dataset Accuracy"
      ]
    },
    {
      "cell_type": "code",
      "execution_count": 103,
      "id": "42e27860",
      "metadata": {
        "colab": {
          "base_uri": "https://localhost:8080/"
        },
        "id": "42e27860",
        "outputId": "a5e411f2-ce91-41de-e5b7-35d4d7e4e9a6"
      },
      "outputs": [
        {
          "output_type": "stream",
          "name": "stdout",
          "text": [
            "Accuracy obtained in sample dataset:  0.5833333333333334\n"
          ]
        }
      ],
      "source": [
        "c=0\n",
        "for i in range(len(final_result['text'])):\n",
        "    if final_result['predicted_emotion'][i]==final_result['actual_emotion'][i]:\n",
        "        c+=1\n",
        "print(\"Accuracy obtained in sample dataset: \",c/len(final_result['text']))"
      ]
    },
    {
      "cell_type": "markdown",
      "id": "8bdc5900",
      "metadata": {
        "id": "8bdc5900"
      },
      "source": [
        "F1 Score for DT model:"
      ]
    },
    {
      "cell_type": "code",
      "execution_count": 104,
      "id": "614dee9e",
      "metadata": {
        "colab": {
          "base_uri": "https://localhost:8080/"
        },
        "id": "614dee9e",
        "outputId": "b27bb30c-f91a-4982-8e43-3ca9ba982a9b"
      },
      "outputs": [
        {
          "output_type": "stream",
          "name": "stdout",
          "text": [
            "F1 score: 0.8199755523718826\n"
          ]
        }
      ],
      "source": [
        "print('F1 score:', f1_score(y_test,y_dt_test, average=\"macro\"))"
      ]
    },
    {
      "cell_type": "markdown",
      "id": "205aba0a",
      "metadata": {
        "id": "205aba0a"
      },
      "source": [
        "Classification Report for DT model:"
      ]
    },
    {
      "cell_type": "code",
      "execution_count": 105,
      "id": "f5481b60",
      "metadata": {
        "colab": {
          "base_uri": "https://localhost:8080/"
        },
        "id": "f5481b60",
        "outputId": "a9d90311-82a4-41ab-9ddb-245898538a60"
      },
      "outputs": [
        {
          "output_type": "stream",
          "name": "stdout",
          "text": [
            "              precision    recall  f1-score   support\n",
            "\n",
            "           0       0.92      0.74      0.82        74\n",
            "           1       0.86      0.77      0.81        78\n",
            "           2       0.68      0.90      0.77        83\n",
            "           3       0.91      0.84      0.87        75\n",
            "\n",
            "    accuracy                           0.82       310\n",
            "   macro avg       0.84      0.81      0.82       310\n",
            "weighted avg       0.84      0.82      0.82       310\n",
            "\n"
          ]
        }
      ],
      "source": [
        "print(classification_report(y_test, y_dt_test))"
      ]
    },
    {
      "cell_type": "markdown",
      "id": "bbfc30a6",
      "metadata": {
        "id": "bbfc30a6"
      },
      "source": [
        "Saving decision tree classifier model to disk:"
      ]
    },
    {
      "cell_type": "code",
      "execution_count": 106,
      "id": "5c211220",
      "metadata": {
        "id": "5c211220"
      },
      "outputs": [],
      "source": [
        "pickle.dump(dt, open('dt_model.sav', 'wb'))"
      ]
    },
    {
      "cell_type": "markdown",
      "id": "2a3d388e",
      "metadata": {
        "id": "2a3d388e"
      },
      "source": [
        "_________________________________________________________________________"
      ]
    },
    {
      "cell_type": "markdown",
      "id": "10d37f22",
      "metadata": {
        "id": "10d37f22"
      },
      "source": [
        "## Predicting Emotions using models trained:"
      ]
    },
    {
      "cell_type": "code",
      "execution_count": 107,
      "id": "a1cf9a8d",
      "metadata": {
        "id": "a1cf9a8d"
      },
      "outputs": [],
      "source": [
        "def predictEmotionUsingMLR(input_txt):\n",
        "    in_txt=pd.DataFrame([input_txt])\n",
        "    txt_count=vect.transform(in_txt[0])\n",
        "    loaded_mlr_model = pickle.load(open('mlr_model.sav', 'rb'))\n",
        "    txt_pred_mlr=loaded_mlr_model.predict(txt_count)\n",
        "    return txt_pred_mlr\n",
        "    \n",
        "def predictEmotionUsingDT(input_txt):\n",
        "    in_txt=pd.DataFrame([input_txt])\n",
        "    txt_count=vect.transform(in_txt[0])\n",
        "    loaded_dt_model = pickle.load(open('dt_model.sav', 'rb'))\n",
        "    txt_pred_dt=loaded_dt_model.predict(txt_count)\n",
        "    return txt_pred_dt\n",
        "    \n",
        "def callingMLR(ttt):\n",
        "    output_txt_mlr=predictEmotionUsingMLR(ttt)\n",
        "    \n",
        "    if output_txt_mlr==0:\n",
        "        return \"Angry\"\n",
        "    elif output_txt_mlr==1:\n",
        "        return \"Happy\"\n",
        "    elif output_txt_mlr==2:\n",
        "        \n",
        "        return \"Neutral\"\n",
        "    elif output_txt_mlr==3:\n",
        "        return \"Sad\"\n",
        "    else:\n",
        "        return \"Oops! No emotion identified.\"\n",
        "\n",
        "    \n",
        "def callingDT(ttt):\n",
        "    \n",
        "    output_txt_dt=predictEmotionUsingDT(ttt)\n",
        "    \n",
        "    if output_txt_dt==0:\n",
        "        return \"Angry\"\n",
        "    elif output_txt_dt==1:\n",
        "        return \"Happy\"\n",
        "    elif output_txt_dt==2:\n",
        "        \n",
        "        return \"Neutral\"\n",
        "    elif output_txt_dt==3:\n",
        "        return \"Sad\"\n",
        "    else:\n",
        "        return \"Oops! No emotion identified.\"\n",
        "\n"
      ]
    },
    {
      "cell_type": "markdown",
      "id": "oHL-RmZTbrv3",
      "metadata": {
        "id": "oHL-RmZTbrv3"
      },
      "source": [
        "## Kannada Text to Speech with Pitch Shifting"
      ]
    },
    {
      "cell_type": "code",
      "execution_count": 108,
      "id": "BbhmGtJrb3is",
      "metadata": {
        "colab": {
          "base_uri": "https://localhost:8080/"
        },
        "id": "BbhmGtJrb3is",
        "outputId": "1ebeb1fa-fa16-4e19-ed21-f4a5188076cd"
      },
      "outputs": [
        {
          "output_type": "stream",
          "name": "stdout",
          "text": [
            "Looking in indexes: https://pypi.org/simple, https://us-python.pkg.dev/colab-wheels/public/simple/\n",
            "Requirement already satisfied: gtts in /usr/local/lib/python3.8/dist-packages (2.3.0)\n",
            "Requirement already satisfied: six~=1.16.0 in /usr/local/lib/python3.8/dist-packages (from gtts) (1.16.0)\n",
            "Requirement already satisfied: click~=8.1.3 in /usr/local/lib/python3.8/dist-packages (from gtts) (8.1.3)\n",
            "Requirement already satisfied: requests~=2.28.0 in /usr/local/lib/python3.8/dist-packages (from gtts) (2.28.1)\n",
            "Requirement already satisfied: urllib3<1.27,>=1.21.1 in /usr/local/lib/python3.8/dist-packages (from requests~=2.28.0->gtts) (1.24.3)\n",
            "Requirement already satisfied: charset-normalizer<3,>=2 in /usr/local/lib/python3.8/dist-packages (from requests~=2.28.0->gtts) (2.1.1)\n",
            "Requirement already satisfied: idna<4,>=2.5 in /usr/local/lib/python3.8/dist-packages (from requests~=2.28.0->gtts) (2.10)\n",
            "Requirement already satisfied: certifi>=2017.4.17 in /usr/local/lib/python3.8/dist-packages (from requests~=2.28.0->gtts) (2022.9.24)\n"
          ]
        }
      ],
      "source": [
        "pip install gtts"
      ]
    },
    {
      "cell_type": "code",
      "execution_count": 109,
      "id": "hhCsyeiqb_v5",
      "metadata": {
        "colab": {
          "base_uri": "https://localhost:8080/"
        },
        "id": "hhCsyeiqb_v5",
        "outputId": "54341237-6acf-499c-8dbb-94dceff8262c"
      },
      "outputs": [
        {
          "output_type": "stream",
          "name": "stdout",
          "text": [
            "Looking in indexes: https://pypi.org/simple, https://us-python.pkg.dev/colab-wheels/public/simple/\n",
            "Requirement already satisfied: pydub in /usr/local/lib/python3.8/dist-packages (0.25.1)\n"
          ]
        }
      ],
      "source": [
        "pip install pydub"
      ]
    },
    {
      "cell_type": "markdown",
      "id": "Gv4AQ5DlcF9G",
      "metadata": {
        "id": "Gv4AQ5DlcF9G"
      },
      "source": [
        "importing necessary libraries"
      ]
    },
    {
      "cell_type": "code",
      "execution_count": 110,
      "id": "8fxYo8ahcITt",
      "metadata": {
        "id": "8fxYo8ahcITt"
      },
      "outputs": [],
      "source": [
        "from gtts import gTTS\n",
        "from pydub import AudioSegment\n",
        "from pydub.playback import play"
      ]
    },
    {
      "cell_type": "markdown",
      "id": "9YcKK3IZcOnz",
      "metadata": {
        "id": "9YcKK3IZcOnz"
      },
      "source": [
        "Default Text To Speech and pitch shifting"
      ]
    },
    {
      "cell_type": "code",
      "execution_count": 116,
      "id": "XDq5OClWcJpk",
      "metadata": {
        "id": "XDq5OClWcJpk"
      },
      "outputs": [],
      "source": [
        "#mytext=input(\"Enter Kannada Text: \")\n",
        "def saveMp3(mytext):\n",
        "  language='kn'\n",
        "  ktts = gTTS(text=mytext, lang=language, slow=False)\n",
        "  ktts.save(\"output.mp3\")\n",
        "\n",
        "  #Pitch shifting of output.mp3\n",
        "  from numpy.random import uniform\n",
        "  filename = 'output.mp3'\n",
        "  sound = AudioSegment.from_file(filename, format=filename[-3:])\n",
        "\n",
        "  octaves = 1\n",
        "  for octaves in np.linspace(-0.5,0.5,10):\n",
        "      new_sample_rate = int(sound.frame_rate * (2.0 ** octaves))\n",
        "      hipitch_sound = sound._spawn(sound.raw_data, overrides={'frame_rate': new_sample_rate})\n",
        "      hipitch_sound = hipitch_sound.set_frame_rate(44100)\n",
        "      #export / save pitch changed sound\n",
        "      hipitch_sound.export(f\"ttsf_{octaves}.wav\", format=\"wav\")\n",
        "\n",
        "\n",
        "def playPitch(emo):\n",
        "\n",
        "  if emo=='Angry':\n",
        "    return \"Play -0.277.wav for anger.\"\n",
        "    #play('/content/ttsf_-0.2777777777777778.wav',slow=False)  #speed must be changed to fast\n",
        "  elif emo=='Happy':\n",
        "    return \"Play 0.5.wav for happy.\"\n",
        "    #play('/content/ttsf_0.5.wav') #sounds happy :)\n",
        "  elif emo=='Neutral':\n",
        "    return \"Play output.mp3 for neutral.\"\n",
        "    #play('/content/output.mp3') #is neutral\n",
        "  else:\n",
        "    return \"Play -0.277.wav for sad.\"\n",
        "    #play('/content/ttsf_-0.2777777777777778.wav') #yeah sounds sad :(\n"
      ]
    },
    {
      "cell_type": "markdown",
      "id": "OaWUrv6Kggyf",
      "metadata": {
        "id": "OaWUrv6Kggyf"
      },
      "source": [
        "open -0.277.wav for anger (to be changed)\\\n",
        "0.5.wav for happy\\\n",
        "output.mp3 for neutral\\\n",
        "-0.277.wav for sad"
      ]
    },
    {
      "cell_type": "markdown",
      "source": [
        "## **TTS in Kannada with Emotions**\n"
      ],
      "metadata": {
        "id": "IfqvILUu6K85"
      },
      "id": "IfqvILUu6K85"
    },
    {
      "cell_type": "code",
      "execution_count": 119,
      "id": "2rHIsGxEeVnF",
      "metadata": {
        "colab": {
          "base_uri": "https://localhost:8080/"
        },
        "id": "2rHIsGxEeVnF",
        "outputId": "11e00871-b59c-4bb5-e3b6-042ebf4eec2f"
      },
      "outputs": [
        {
          "output_type": "stream",
          "name": "stdout",
          "text": [
            "Enter Kannada Text:ನೀನು ಏನು ಮಾಡುತ್ತಿರುವೆ?!\n",
            "\n",
            "\n",
            "Results using Multinomial Logistic Regression:\n",
            "Emotion identified using MLR:  Neutral\n",
            "Play output.mp3 for neutral. \n",
            "\n",
            "Results using Decision Tree Classifier:\n",
            "Emotion identified using DT:  Neutral\n",
            "Play output.mp3 for neutral. \n",
            "\n"
          ]
        }
      ],
      "source": [
        "def mainTTS():\n",
        "  ttt=input(\"Enter Kannada Text:\")\n",
        "  print(\"\\n\")\n",
        "  mlr_output=callingMLR(ttt)\n",
        "  dt_output=callingDT(ttt)\n",
        "  saveMp3(ttt)\n",
        "  speech_output_mlr=playPitch(mlr_output)\n",
        "  speech_output_dt=playPitch(dt_output)\n",
        "  \n",
        "  print(\"Results using Multinomial Logistic Regression:\",)\n",
        "  print(\"Emotion identified using MLR: \",mlr_output)\n",
        "  print(speech_output_mlr,\"\\n\")\n",
        "\n",
        "  print(\"Results using Decision Tree Classifier:\")\n",
        "  print(\"Emotion identified using DT: \",dt_output)\n",
        "  print(speech_output_dt,\"\\n\")\n",
        "\n",
        "\n",
        "mainTTS() #calling the main function"
      ]
    },
    {
      "cell_type": "markdown",
      "source": [
        "Some examples:\n",
        "\n",
        "ಈ ದಿನ ಸುದಿನ\n",
        "\n",
        "ನೀನು ಏನು ಮಾಡುತ್ತಿರುವೆ?!\n",
        "\n",
        "ನಾನು ನಿಮಗಾಗಿ ತುಂಬಾ ಸಂತೋಷವಾಗಿದ್ದೇನೆ"
      ],
      "metadata": {
        "id": "skdHLTWw-Oxf"
      },
      "id": "skdHLTWw-Oxf"
    },
    {
      "cell_type": "code",
      "source": [],
      "metadata": {
        "id": "ubk7sSWC-VXz"
      },
      "id": "ubk7sSWC-VXz",
      "execution_count": 112,
      "outputs": []
    }
  ],
  "metadata": {
    "colab": {
      "provenance": []
    },
    "kernelspec": {
      "display_name": "Python 3 (ipykernel)",
      "language": "python",
      "name": "python3"
    },
    "language_info": {
      "codemirror_mode": {
        "name": "ipython",
        "version": 3
      },
      "file_extension": ".py",
      "mimetype": "text/x-python",
      "name": "python",
      "nbconvert_exporter": "python",
      "pygments_lexer": "ipython3",
      "version": "3.9.7"
    }
  },
  "nbformat": 4,
  "nbformat_minor": 5
}